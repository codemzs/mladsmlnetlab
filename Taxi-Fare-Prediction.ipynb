{
 "cells": [
  {
   "cell_type": "markdown",
   "metadata": {},
   "source": [
    "# Regression model for Taxi fares using ML .NET\n",
    "\n",
    "Regression is a ML task type of supervised machine learning algorithms. \n",
    "A regression ML model predicts continuous value outputs (such as numbers). \n",
    "For instance, predicting the fare of a Taxi trip or predicting the price of a car is a regression problem."
   ]
  },
  {
   "cell_type": "markdown",
   "metadata": {},
   "source": [
    "# Install the NuGet packages you use in the notebook"
   ]
  },
  {
   "cell_type": "code",
   "execution_count": 40,
   "metadata": {},
   "outputs": [
    {
     "data": {
      "text/html": [
       "Installing package Microsoft.ML, version 1.4.0...done!"
      ]
     },
     "metadata": {},
     "output_type": "display_data"
    },
    {
     "data": {
      "text/html": [
       "Successfully added reference to package Microsoft.ML, version 1.4.0"
      ]
     },
     "metadata": {},
     "output_type": "display_data"
    },
    {
     "data": {
      "text/html": [
       "Installing package Microsoft.Data.Analysis, version 0.1.0..done!"
      ]
     },
     "metadata": {},
     "output_type": "display_data"
    },
    {
     "data": {
      "text/html": [
       "Successfully added reference to package Microsoft.Data.Analysis, version 0.1.0"
      ]
     },
     "metadata": {},
     "output_type": "display_data"
    },
    {
     "data": {
      "text/html": [
       "Installing package XPlot.Plotly, version 2.0.0..done!"
      ]
     },
     "metadata": {},
     "output_type": "display_data"
    },
    {
     "data": {
      "text/html": [
       "Successfully added reference to package XPlot.Plotly, version 2.0.0"
      ]
     },
     "metadata": {},
     "output_type": "display_data"
    },
    {
     "data": {
      "text/html": [
       "Installing package Microsoft.ML.Mkl.Components, version 1.4.0.........done!"
      ]
     },
     "metadata": {},
     "output_type": "display_data"
    },
    {
     "data": {
      "text/html": [
       "Successfully added reference to package Microsoft.ML.Mkl.Components, version 1.4.0"
      ]
     },
     "metadata": {},
     "output_type": "display_data"
    }
   ],
   "source": [
    "#r \"nuget:Microsoft.ML,1.4.0\"\n",
    "#r \"nuget:Microsoft.Data.Analysis,0.1.0\"\n",
    "#r \"nuget:XPlot.Plotly,2.0.0\"\n",
    "#r \"nuget:Microsoft.ML.Mkl.Components,1.4.0\"\n",
    "using XPlot.Plotly;\n",
    "using Microsoft.Data.Analysis;\n",
    "using Microsoft.ML;\n",
    "using Microsoft.ML.Data;"
   ]
  },
  {
   "cell_type": "markdown",
   "metadata": {},
   "source": [
    "# Declare data-classes for input data and predictions"
   ]
  },
  {
   "cell_type": "code",
   "execution_count": 4,
   "metadata": {},
   "outputs": [
    {
     "data": {
      "text/html": [
       "<h4>Declaring data-classes to use across the code in this notebook.</h4>"
      ]
     },
     "metadata": {},
     "output_type": "display_data"
    }
   ],
   "source": [
    "display(h4(\"Declaring data-classes to use across the code in this notebook.\"));\n",
    "\n",
    "public class TaxiTrip\n",
    "{\n",
    "    [LoadColumn(0)]\n",
    "    public string VendorId;\n",
    "\n",
    "    [LoadColumn(1)]\n",
    "    public string RateCode;\n",
    "\n",
    "    [LoadColumn(2)]\n",
    "    public float PassengerCount;\n",
    "\n",
    "    [LoadColumn(3)]\n",
    "    public float TripTime;\n",
    "\n",
    "    [LoadColumn(4)]\n",
    "    public float TripDistance;\n",
    "\n",
    "    [LoadColumn(5)]\n",
    "    public string PaymentType;\n",
    "\n",
    "    [LoadColumn(6)]\n",
    "    public float FareAmount;\n",
    "}\n",
    "\n",
    "public class TaxiTripFarePrediction\n",
    "{\n",
    "    [ColumnName(\"Score\")]\n",
    "    public float Score;\n",
    "}"
   ]
  },
  {
   "cell_type": "code",
   "execution_count": 26,
   "metadata": {},
   "outputs": [],
   "source": [
    "using Microsoft.AspNetCore.Html;\n",
    "using System.Collections;\n",
    "Formatter<DataDebuggerPreview>.Register((data, writer) =>\n",
    "{\n",
    "    var headers = new List<IHtmlContent>();\n",
    "    headers.Add(th(i(\"index\")));\n",
    "    headers.AddRange(data.ColumnView.Where(col => !col.Column.IsHidden).Select(c => (IHtmlContent) th(c.Column.Name)));\n",
    "    var colIndices = new List<int>();\n",
    "    int index = 0;\n",
    "    foreach(var col in data.ColumnView)\n",
    "    {\n",
    "        if(!col.Column.IsHidden)\n",
    "        {\n",
    "            colIndices.Add(index);\n",
    "        }\n",
    "        \n",
    "        index++;\n",
    "    }\n",
    "    \n",
    "    var rows = new List<List<IHtmlContent>>();\n",
    "    var take = 100;\n",
    "    for (var i = 0; i < Math.Min(take, data.RowView.Length); i++)\n",
    "    {\n",
    "        var cells = new List<IHtmlContent>();\n",
    "        cells.Add(td(i));\n",
    "        foreach (var localIndex in colIndices)\n",
    "        {\n",
    "            var value = data.RowView[i].Values[localIndex];\n",
    "            if(value.Value.GetType().IsGenericType && value.Value.GetType().GetGenericTypeDefinition() == typeof(VBuffer<>))\n",
    "            {\n",
    "                var denseVals = (IEnumerable)(value.Value.GetType().GetMethod(\"DenseValues\").Invoke(value.Value, null));\n",
    "                List<string> innerValList = new List<string>();\n",
    "                foreach(var innerVal in denseVals)\n",
    "                {\n",
    "                    innerValList.Add(Convert.ToString(innerVal));\n",
    "                }\n",
    "                var v = string.Join(\",\", innerValList);\n",
    "                cells.Add(td(v));\n",
    "            }\n",
    "            else\n",
    "                cells.Add(td(value.Value));\n",
    "        }\n",
    "        rows.Add(cells);\n",
    "    }\n",
    "    \n",
    "    var t = table(\n",
    "        thead(\n",
    "            headers),\n",
    "        tbody(\n",
    "            rows.Select(\n",
    "                r => tr(r))));\n",
    "    \n",
    "    writer.Write(t);\n",
    "}, \"text/html\");"
   ]
  },
  {
   "cell_type": "markdown",
   "metadata": {},
   "source": [
    "# Load datasets into IDataView and display the schema "
   ]
  },
  {
   "cell_type": "code",
   "execution_count": 6,
   "metadata": {},
   "outputs": [
    {
     "data": {
      "text/html": [
       "<h1>Code for loading the data into IDataViews: training dataset and test dataset</h1>"
      ]
     },
     "metadata": {},
     "output_type": "display_data"
    },
    {
     "data": {
      "text/html": [
       "<h4>Schema of training DataView:</h4>"
      ]
     },
     "metadata": {},
     "output_type": "display_data"
    },
    {
     "data": {
      "text/html": [
       "<table><thead><tr><th><i>index</i></th><th>Name</th><th>Index</th><th>IsHidden</th><th>Type</th><th>Annotations</th></tr></thead><tbody><tr><td>0</td><td>VendorId</td><td>0</td><td>False</td><td>{ Microsoft.ML.Data.TextDataViewType: RawType: System.ReadOnlyMemory&lt;System.Char&gt; }</td><td>{ Microsoft.ML.DataViewSchema+Annotations: Schema: [  ] }</td></tr><tr><td>1</td><td>RateCode</td><td>1</td><td>False</td><td>{ Microsoft.ML.Data.TextDataViewType: RawType: System.ReadOnlyMemory&lt;System.Char&gt; }</td><td>{ Microsoft.ML.DataViewSchema+Annotations: Schema: [  ] }</td></tr><tr><td>2</td><td>PassengerCount</td><td>2</td><td>False</td><td>{ Microsoft.ML.Data.NumberDataViewType: RawType: System.Single }</td><td>{ Microsoft.ML.DataViewSchema+Annotations: Schema: [  ] }</td></tr><tr><td>3</td><td>TripTime</td><td>3</td><td>False</td><td>{ Microsoft.ML.Data.NumberDataViewType: RawType: System.Single }</td><td>{ Microsoft.ML.DataViewSchema+Annotations: Schema: [  ] }</td></tr><tr><td>4</td><td>TripDistance</td><td>4</td><td>False</td><td>{ Microsoft.ML.Data.NumberDataViewType: RawType: System.Single }</td><td>{ Microsoft.ML.DataViewSchema+Annotations: Schema: [  ] }</td></tr><tr><td>5</td><td>PaymentType</td><td>5</td><td>False</td><td>{ Microsoft.ML.Data.TextDataViewType: RawType: System.ReadOnlyMemory&lt;System.Char&gt; }</td><td>{ Microsoft.ML.DataViewSchema+Annotations: Schema: [  ] }</td></tr><tr><td>6</td><td>FareAmount</td><td>6</td><td>False</td><td>{ Microsoft.ML.Data.NumberDataViewType: RawType: System.Single }</td><td>{ Microsoft.ML.DataViewSchema+Annotations: Schema: [  ] }</td></tr></tbody></table>"
      ]
     },
     "metadata": {},
     "output_type": "display_data"
    }
   ],
   "source": [
    "display(h1(\"Code for loading the data into IDataViews: training dataset and test dataset\"));\n",
    "\n",
    "MLContext mlContext = new MLContext(seed: 0);\n",
    "\n",
    "string TrainDataPath = \"./taxi-fare-train.csv\";\n",
    "string TestDataPath = \"./taxi-fare-test.csv\";\n",
    "\n",
    "IDataView trainDataView = mlContext.Data.LoadFromTextFile<TaxiTrip>(TrainDataPath, hasHeader: true, separatorChar: ',');\n",
    "IDataView testDataView = mlContext.Data.LoadFromTextFile<TaxiTrip>(TestDataPath, hasHeader: true, separatorChar: ',');\n",
    "\n",
    "display(h4(\"Schema of training DataView:\"));\n",
    "display(trainDataView.Schema);\n"
   ]
  },
  {
   "cell_type": "markdown",
   "metadata": {},
   "source": [
    "## Show a few rows of loaded data "
   ]
  },
  {
   "cell_type": "code",
   "execution_count": 8,
   "metadata": {},
   "outputs": [
    {
     "data": {
      "text/plain": [
       "DataView: Showing 10 rows with the columns"
      ]
     },
     "metadata": {},
     "output_type": "display_data"
    },
    {
     "data": {
      "text/html": [
       "<table><thead><tr><th><i>index</i></th><th>VendorId</th><th>RateCode</th><th>PassengerCount</th><th>TripTime</th><th>TripDistance</th><th>PaymentType</th><th>FareAmount</th></tr></thead><tbody><tr><td>0</td><td>CMT</td><td>1</td><td>1</td><td>1271</td><td>3.8</td><td>CRD</td><td>17.5</td></tr><tr><td>1</td><td>CMT</td><td>1</td><td>1</td><td>474</td><td>1.5</td><td>CRD</td><td>8</td></tr><tr><td>2</td><td>CMT</td><td>1</td><td>1</td><td>637</td><td>1.4</td><td>CRD</td><td>8.5</td></tr><tr><td>3</td><td>CMT</td><td>1</td><td>1</td><td>181</td><td>0.6</td><td>CSH</td><td>4.5</td></tr><tr><td>4</td><td>CMT</td><td>1</td><td>1</td><td>661</td><td>1.1</td><td>CRD</td><td>8.5</td></tr><tr><td>5</td><td>CMT</td><td>1</td><td>1</td><td>935</td><td>9.6</td><td>CSH</td><td>27.5</td></tr><tr><td>6</td><td>CMT</td><td>1</td><td>1</td><td>869</td><td>2.3</td><td>CRD</td><td>11.5</td></tr><tr><td>7</td><td>CMT</td><td>1</td><td>1</td><td>454</td><td>1.4</td><td>CRD</td><td>7.5</td></tr><tr><td>8</td><td>CMT</td><td>1</td><td>1</td><td>366</td><td>1.5</td><td>CSH</td><td>7.5</td></tr><tr><td>9</td><td>CMT</td><td>1</td><td>1</td><td>252</td><td>0.6</td><td>CSH</td><td>5</td></tr></tbody></table>"
      ]
     },
     "metadata": {},
     "output_type": "display_data"
    }
   ],
   "source": [
    "display(string.Format(\"DataView: Showing 10 rows with the columns\"));\n",
    "display(mlContext.Data.CreateEnumerable<TaxiTrip>(trainDataView, reuseRowObject: false).Take(10).ToList());"
   ]
  },
  {
   "cell_type": "markdown",
   "metadata": {},
   "source": [
    "# Data transformations pipeline for ML.NET model"
   ]
  },
  {
   "cell_type": "code",
   "execution_count": 27,
   "metadata": {},
   "outputs": [
    {
     "data": {
      "text/html": [
       "<h1>Apply Data Transformations pipeline</h1>"
      ]
     },
     "metadata": {},
     "output_type": "display_data"
    },
    {
     "data": {
      "text/html": [
       "<h3>Show transformed data...</h3>"
      ]
     },
     "metadata": {},
     "output_type": "display_data"
    },
    {
     "data": {
      "text/html": [
       "<table><thead><th><i>index</i></th><th>VendorId</th><th>RateCode</th><th>PassengerCount</th><th>TripTime</th><th>TripDistance</th><th>PaymentType</th><th>FareAmount</th><th>VendorIdEncoded</th><th>RateCodeEncoded</th><th>PaymentTypeEncoded</th><th>Features</th></thead><tbody><tr><td>0</td><td>CMT</td><td>1</td><td>0.42661828</td><td>1.514717</td><td>0.87563246</td><td>CRD</td><td>17.5</td><td>1,0</td><td>1,0,0,0,0,0</td><td>1,0,0,0,0</td><td>1,0,1,0,0,0,0,0,1,0,0,0,0,0.42661828,1.514717,0.87563246</td></tr><tr><td>1</td><td>CMT</td><td>1</td><td>0.42661828</td><td>0.5648905</td><td>0.3456444</td><td>CRD</td><td>8</td><td>1,0</td><td>1,0,0,0,0,0</td><td>1,0,0,0,0</td><td>1,0,1,0,0,0,0,0,1,0,0,0,0,0.42661828,0.5648905,0.3456444</td></tr><tr><td>2</td><td>CMT</td><td>1</td><td>0.42661828</td><td>0.7591461</td><td>0.32260144</td><td>CRD</td><td>8.5</td><td>1,0</td><td>1,0,0,0,0,0</td><td>1,0,0,0,0</td><td>1,0,1,0,0,0,0,0,1,0,0,0,0,0.42661828,0.7591461,0.32260144</td></tr><tr><td>3</td><td>CMT</td><td>1</td><td>0.42661828</td><td>0.21570714</td><td>0.13825777</td><td>CSH</td><td>4.5</td><td>1,0</td><td>1,0,0,0,0,0</td><td>0,1,0,0,0</td><td>1,0,1,0,0,0,0,0,0,1,0,0,0,0.42661828,0.21570714,0.13825777</td></tr><tr><td>4</td><td>CMT</td><td>1</td><td>0.42661828</td><td>0.78774816</td><td>0.25347257</td><td>CRD</td><td>8.5</td><td>1,0</td><td>1,0,0,0,0,0</td><td>1,0,0,0,0</td><td>1,0,1,0,0,0,0,0,1,0,0,0,0,0.42661828,0.78774816,0.25347257</td></tr><tr><td>5</td><td>CMT</td><td>1</td><td>0.42661828</td><td>1.1142882</td><td>2.2121243</td><td>CSH</td><td>27.5</td><td>1,0</td><td>1,0,0,0,0,0</td><td>0,1,0,0,0</td><td>1,0,1,0,0,0,0,0,0,1,0,0,0,0.42661828,1.1142882,2.2121243</td></tr><tr><td>6</td><td>CMT</td><td>1</td><td>0.42661828</td><td>1.0356326</td><td>0.52998805</td><td>CRD</td><td>11.5</td><td>1,0</td><td>1,0,0,0,0,0</td><td>1,0,0,0,0</td><td>1,0,1,0,0,0,0,0,1,0,0,0,0,0.42661828,1.0356326,0.52998805</td></tr><tr><td>7</td><td>CMT</td><td>1</td><td>0.42661828</td><td>0.5410555</td><td>0.32260144</td><td>CRD</td><td>7.5</td><td>1,0</td><td>1,0,0,0,0,0</td><td>1,0,0,0,0</td><td>1,0,1,0,0,0,0,0,1,0,0,0,0,0.42661828,0.5410555,0.32260144</td></tr><tr><td>8</td><td>CMT</td><td>1</td><td>0.42661828</td><td>0.43618128</td><td>0.3456444</td><td>CSH</td><td>7.5</td><td>1,0</td><td>1,0,0,0,0,0</td><td>0,1,0,0,0</td><td>1,0,1,0,0,0,0,0,0,1,0,0,0,0.42661828,0.43618128,0.3456444</td></tr><tr><td>9</td><td>CMT</td><td>1</td><td>0.42661828</td><td>0.30032155</td><td>0.13825777</td><td>CSH</td><td>5</td><td>1,0</td><td>1,0,0,0,0,0</td><td>0,1,0,0,0</td><td>1,0,1,0,0,0,0,0,0,1,0,0,0,0.42661828,0.30032155,0.13825777</td></tr><tr><td>10</td><td>CMT</td><td>1</td><td>0.42661828</td><td>0.37421018</td><td>0.27651554</td><td>CRD</td><td>6</td><td>1,0</td><td>1,0,0,0,0,0</td><td>1,0,0,0,0</td><td>1,0,1,0,0,0,0,0,1,0,0,0,0,0.42661828,0.37421018,0.27651554</td></tr><tr><td>11</td><td>CMT</td><td>1</td><td>0.42661828</td><td>0.57204103</td><td>0.16130072</td><td>CRD</td><td>7</td><td>1,0</td><td>1,0,0,0,0,0</td><td>1,0,0,0,0</td><td>1,0,1,0,0,0,0,0,1,0,0,0,0,0.42661828,0.57204103,0.16130072</td></tr><tr><td>12</td><td>CMT</td><td>1</td><td>0.42661828</td><td>0.46001634</td><td>0.29955846</td><td>CRD</td><td>7</td><td>1,0</td><td>1,0,0,0,0,0</td><td>1,0,0,0,0</td><td>1,0,1,0,0,0,0,0,1,0,0,0,0,0.42661828,0.46001634,0.29955846</td></tr><tr><td>13</td><td>CMT</td><td>1</td><td>0.85323656</td><td>0.418305</td><td>0.18434368</td><td>CSH</td><td>5.5</td><td>1,0</td><td>1,0,0,0,0,0</td><td>0,1,0,0,0</td><td>1,0,1,0,0,0,0,0,0,1,0,0,0,0.85323656,0.418305,0.18434368</td></tr><tr><td>14</td><td>CMT</td><td>1</td><td>0.42661828</td><td>0.48504314</td><td>0.25347257</td><td>CSH</td><td>7</td><td>1,0</td><td>1,0,0,0,0,0</td><td>0,1,0,0,0</td><td>1,0,1,0,0,0,0,0,0,1,0,0,0,0.42661828,0.48504314,0.25347257</td></tr><tr><td>15</td><td>CMT</td><td>1</td><td>0.85323656</td><td>1.1559995</td><td>1.2904058</td><td>CSH</td><td>19</td><td>1,0</td><td>1,0,0,0,0,0</td><td>0,1,0,0,0</td><td>1,0,1,0,0,0,0,0,0,1,0,0,0,0.85323656,1.1559995,1.2904058</td></tr><tr><td>16</td><td>CMT</td><td>1</td><td>1.2798548</td><td>0.44214004</td><td>0.13825777</td><td>CRD</td><td>6</td><td>1,0</td><td>1,0,0,0,0,0</td><td>1,0,0,0,0</td><td>1,0,1,0,0,0,0,0,1,0,0,0,0,1.2798548,0.44214004,0.13825777</td></tr><tr><td>17</td><td>CMT</td><td>1</td><td>0.85323656</td><td>0.43737304</td><td>0.29955846</td><td>CSH</td><td>6.5</td><td>1,0</td><td>1,0,0,0,0,0</td><td>0,1,0,0,0</td><td>1,0,1,0,0,0,0,0,0,1,0,0,0,0.85323656,0.43737304,0.29955846</td></tr><tr><td>18</td><td>CMT</td><td>1</td><td>0.42661828</td><td>0.7400781</td><td>0.39173034</td><td>CSH</td><td>9</td><td>1,0</td><td>1,0,0,0,0,0</td><td>0,1,0,0,0</td><td>1,0,1,0,0,0,0,0,0,1,0,0,0,0.42661828,0.7400781,0.39173034</td></tr><tr><td>19</td><td>CMT</td><td>1</td><td>0.42661828</td><td>0.28959578</td><td>0.13825777</td><td>CSH</td><td>4.5</td><td>1,0</td><td>1,0,0,0,0,0</td><td>0,1,0,0,0</td><td>1,0,1,0,0,0,0,0,0,1,0,0,0,0.42661828,0.28959578,0.13825777</td></tr><tr><td>20</td><td>CMT</td><td>2</td><td>0.42661828</td><td>0.0035752566</td><td>0</td><td>NOC</td><td>52</td><td>1,0</td><td>0,1,0,0,0,0</td><td>0,0,1,0,0</td><td>1,0,0,1,0,0,0,0,0,0,1,0,0,0.42661828,0.0035752566,0</td></tr><tr><td>21</td><td>CMT</td><td>1</td><td>1.2798548</td><td>0.5779998</td><td>0.18434368</td><td>CSH</td><td>6.5</td><td>1,0</td><td>1,0,0,0,0,0</td><td>0,1,0,0,0</td><td>1,0,1,0,0,0,0,0,0,1,0,0,0,1.2798548,0.5779998,0.18434368</td></tr><tr><td>22</td><td>CMT</td><td>1</td><td>0.42661828</td><td>0.104874186</td><td>0.09217184</td><td>CSH</td><td>3.5</td><td>1,0</td><td>1,0,0,0,0,0</td><td>0,1,0,0,0</td><td>1,0,1,0,0,0,0,0,0,1,0,0,0,0.42661828,0.104874186,0.09217184</td></tr><tr><td>23</td><td>CMT</td><td>1</td><td>0.85323656</td><td>0.19068034</td><td>0.13825777</td><td>CSH</td><td>4.5</td><td>1,0</td><td>1,0,0,0,0,0</td><td>0,1,0,0,0</td><td>1,0,1,0,0,0,0,0,0,1,0,0,0,0.85323656,0.19068034,0.13825777</td></tr><tr><td>24</td><td>CMT</td><td>1</td><td>0.85323656</td><td>0.7102843</td><td>0.32260144</td><td>CSH</td><td>8.5</td><td>1,0</td><td>1,0,0,0,0,0</td><td>0,1,0,0,0</td><td>1,0,1,0,0,0,0,0,0,1,0,0,0,0.85323656,0.7102843,0.32260144</td></tr><tr><td>25</td><td>CMT</td><td>1</td><td>0.42661828</td><td>0.32177308</td><td>0.18434368</td><td>CSH</td><td>5.5</td><td>1,0</td><td>1,0,0,0,0,0</td><td>0,1,0,0,0</td><td>1,0,1,0,0,0,0,0,0,1,0,0,0,0.42661828,0.32177308,0.18434368</td></tr><tr><td>26</td><td>CMT</td><td>1</td><td>0.42661828</td><td>2.0593476</td><td>2.2582102</td><td>CRD</td><td>32</td><td>1,0</td><td>1,0,0,0,0,0</td><td>1,0,0,0,0</td><td>1,0,1,0,0,0,0,0,1,0,0,0,0,0.42661828,2.0593476,2.2582102</td></tr><tr><td>27</td><td>CMT</td><td>1</td><td>0.42661828</td><td>0.58753383</td><td>0.32260144</td><td>CSH</td><td>8.5</td><td>1,0</td><td>1,0,0,0,0,0</td><td>0,1,0,0,0</td><td>1,0,1,0,0,0,0,0,0,1,0,0,0,0.42661828,0.58753383,0.32260144</td></tr><tr><td>28</td><td>CMT</td><td>1</td><td>0.42661828</td><td>0.7805976</td><td>0.32260144</td><td>CSH</td><td>8.5</td><td>1,0</td><td>1,0,0,0,0,0</td><td>0,1,0,0,0</td><td>1,0,1,0,0,0,0,0,0,1,0,0,0,0.42661828,0.7805976,0.32260144</td></tr><tr><td>29</td><td>CMT</td><td>1</td><td>0.42661828</td><td>0.6804905</td><td>0.4608592</td><td>CRD</td><td>9</td><td>1,0</td><td>1,0,0,0,0,0</td><td>1,0,0,0,0</td><td>1,0,1,0,0,0,0,0,1,0,0,0,0,0.42661828,0.6804905,0.4608592</td></tr><tr><td>30</td><td>CMT</td><td>1</td><td>0.85323656</td><td>0.1716123</td><td>0.1152148</td><td>CRD</td><td>4</td><td>1,0</td><td>1,0,0,0,0,0</td><td>1,0,0,0,0</td><td>1,0,1,0,0,0,0,0,1,0,0,0,0,0.85323656,0.1716123,0.1152148</td></tr><tr><td>31</td><td>CMT</td><td>1</td><td>0.42661828</td><td>0.5398637</td><td>0.29955846</td><td>CSH</td><td>7</td><td>1,0</td><td>1,0,0,0,0,0</td><td>0,1,0,0,0</td><td>1,0,1,0,0,0,0,0,0,1,0,0,0,0.42661828,0.5398637,0.29955846</td></tr><tr><td>32</td><td>CMT</td><td>1</td><td>0.85323656</td><td>1.2799418</td><td>0.87563246</td><td>CSH</td><td>16</td><td>1,0</td><td>1,0,0,0,0,0</td><td>0,1,0,0,0</td><td>1,0,1,0,0,0,0,0,0,1,0,0,0,0.85323656,1.2799418,0.87563246</td></tr><tr><td>33</td><td>CMT</td><td>1</td><td>0.42661828</td><td>0.5601235</td><td>0.32260144</td><td>CRD</td><td>7.5</td><td>1,0</td><td>1,0,0,0,0,0</td><td>1,0,0,0,0</td><td>1,0,1,0,0,0,0,0,1,0,0,0,0,0.42661828,0.5601235,0.32260144</td></tr><tr><td>34</td><td>CMT</td><td>1</td><td>0.42661828</td><td>0.97842854</td><td>0.576074</td><td>CSH</td><td>11.5</td><td>1,0</td><td>1,0,0,0,0,0</td><td>0,1,0,0,0</td><td>1,0,1,0,0,0,0,0,0,1,0,0,0,0.42661828,0.97842854,0.576074</td></tr><tr><td>35</td><td>CMT</td><td>1</td><td>0.85323656</td><td>0.6423544</td><td>0.32260144</td><td>CSH</td><td>8</td><td>1,0</td><td>1,0,0,0,0,0</td><td>0,1,0,0,0</td><td>1,0,1,0,0,0,0,0,0,1,0,0,0,0.85323656,0.6423544,0.32260144</td></tr><tr><td>36</td><td>CMT</td><td>1</td><td>0.42661828</td><td>0.4731256</td><td>0.09217184</td><td>CRD</td><td>5.5</td><td>1,0</td><td>1,0,0,0,0,0</td><td>1,0,0,0,0</td><td>1,0,1,0,0,0,0,0,1,0,0,0,0,0.42661828,0.4731256,0.09217184</td></tr><tr><td>37</td><td>CMT</td><td>1</td><td>0.42661828</td><td>0.26576072</td><td>0.18434368</td><td>CSH</td><td>5</td><td>1,0</td><td>1,0,0,0,0,0</td><td>0,1,0,0,0</td><td>1,0,1,0,0,0,0,0,0,1,0,0,0,0.42661828,0.26576072,0.18434368</td></tr><tr><td>38</td><td>CMT</td><td>1</td><td>0.42661828</td><td>0.5446307</td><td>0.2304296</td><td>CSH</td><td>7</td><td>1,0</td><td>1,0,0,0,0,0</td><td>0,1,0,0,0</td><td>1,0,1,0,0,0,0,0,0,1,0,0,0,0.42661828,0.5446307,0.2304296</td></tr><tr><td>39</td><td>CMT</td><td>1</td><td>0.42661828</td><td>1.8198055</td><td>1.0830191</td><td>CSH</td><td>19.5</td><td>1,0</td><td>1,0,0,0,0,0</td><td>0,1,0,0,0</td><td>1,0,1,0,0,0,0,0,0,1,0,0,0,0.42661828,1.8198055,1.0830191</td></tr><tr><td>40</td><td>CMT</td><td>2</td><td>0.42661828</td><td>2.1272776</td><td>3.7790453</td><td>CSH</td><td>52</td><td>1,0</td><td>0,1,0,0,0,0</td><td>0,1,0,0,0</td><td>1,0,0,1,0,0,0,0,0,1,0,0,0,0.42661828,2.1272776,3.7790453</td></tr><tr><td>41</td><td>CMT</td><td>1</td><td>0.85323656</td><td>0.7293523</td><td>0.48390216</td><td>CSH</td><td>10</td><td>1,0</td><td>1,0,0,0,0,0</td><td>0,1,0,0,0</td><td>1,0,1,0,0,0,0,0,0,1,0,0,0,0.85323656,0.7293523,0.48390216</td></tr><tr><td>42</td><td>CMT</td><td>1</td><td>0.85323656</td><td>0.55654824</td><td>0.29955846</td><td>CSH</td><td>7</td><td>1,0</td><td>1,0,0,0,0,0</td><td>0,1,0,0,0</td><td>1,0,1,0,0,0,0,0,0,1,0,0,0,0.85323656,0.55654824,0.29955846</td></tr><tr><td>43</td><td>CMT</td><td>1</td><td>0.85323656</td><td>0.31223905</td><td>0.13825777</td><td>CSH</td><td>5</td><td>1,0</td><td>1,0,0,0,0,0</td><td>0,1,0,0,0</td><td>1,0,1,0,0,0,0,0,0,1,0,0,0,0.85323656,0.31223905,0.13825777</td></tr><tr><td>44</td><td>CMT</td><td>1</td><td>0.42661828</td><td>1.9103787</td><td>1.4977925</td><td>CSH</td><td>24.5</td><td>1,0</td><td>1,0,0,0,0,0</td><td>0,1,0,0,0</td><td>1,0,1,0,0,0,0,0,0,1,0,0,0,0.42661828,1.9103787,1.4977925</td></tr><tr><td>45</td><td>CMT</td><td>1</td><td>0.42661828</td><td>0.7853647</td><td>0.39173034</td><td>CSH</td><td>9.5</td><td>1,0</td><td>1,0,0,0,0,0</td><td>0,1,0,0,0</td><td>1,0,1,0,0,0,0,0,0,1,0,0,0,0.42661828,0.7853647,0.39173034</td></tr><tr><td>46</td><td>CMT</td><td>1</td><td>1.7064731</td><td>1.273983</td><td>0.5530311</td><td>CSH</td><td>12.5</td><td>1,0</td><td>1,0,0,0,0,0</td><td>0,1,0,0,0</td><td>1,0,1,0,0,0,0,0,0,1,0,0,0,1.7064731,1.273983,0.5530311</td></tr><tr><td>47</td><td>CMT</td><td>1</td><td>0.42661828</td><td>0.16565354</td><td>0.09217184</td><td>CSH</td><td>4</td><td>1,0</td><td>1,0,0,0,0,0</td><td>0,1,0,0,0</td><td>1,0,1,0,0,0,0,0,0,1,0,0,0,0.42661828,0.16565354,0.09217184</td></tr><tr><td>48</td><td>CMT</td><td>1</td><td>0.42661828</td><td>0.48981014</td><td>0.25347257</td><td>CSH</td><td>7</td><td>1,0</td><td>1,0,0,0,0,0</td><td>0,1,0,0,0</td><td>1,0,1,0,0,0,0,0,0,1,0,0,0,0.42661828,0.48981014,0.25347257</td></tr><tr><td>49</td><td>CMT</td><td>1</td><td>0.42661828</td><td>0.40519574</td><td>0.1152148</td><td>CSH</td><td>5.5</td><td>1,0</td><td>1,0,0,0,0,0</td><td>0,1,0,0,0</td><td>1,0,1,0,0,0,0,0,0,1,0,0,0,0.42661828,0.40519574,0.1152148</td></tr><tr><td>50</td><td>CMT</td><td>1</td><td>0.42661828</td><td>1.7149314</td><td>0.8295466</td><td>CSH</td><td>17.5</td><td>1,0</td><td>1,0,0,0,0,0</td><td>0,1,0,0,0</td><td>1,0,1,0,0,0,0,0,0,1,0,0,0,0.42661828,1.7149314,0.8295466</td></tr><tr><td>51</td><td>CMT</td><td>1</td><td>0.85323656</td><td>0.50649464</td><td>0.25347257</td><td>CSH</td><td>7</td><td>1,0</td><td>1,0,0,0,0,0</td><td>0,1,0,0,0</td><td>1,0,1,0,0,0,0,0,0,1,0,0,0,0.85323656,0.50649464,0.25347257</td></tr><tr><td>52</td><td>CMT</td><td>1</td><td>0.42661828</td><td>3.0520773</td><td>2.1429954</td><td>CRD</td><td>33.5</td><td>1,0</td><td>1,0,0,0,0,0</td><td>1,0,0,0,0</td><td>1,0,1,0,0,0,0,0,1,0,0,0,0,0.42661828,3.0520773,2.1429954</td></tr><tr><td>53</td><td>CMT</td><td>1</td><td>0.42661828</td><td>0.36705965</td><td>0.20738664</td><td>CRD</td><td>5.5</td><td>1,0</td><td>1,0,0,0,0,0</td><td>1,0,0,0,0</td><td>1,0,1,0,0,0,0,0,1,0,0,0,0,0.42661828,0.36705965,0.20738664</td></tr><tr><td>54</td><td>CMT</td><td>1</td><td>0.85323656</td><td>0.45882457</td><td>0.29955846</td><td>CRD</td><td>7</td><td>1,0</td><td>1,0,0,0,0,0</td><td>1,0,0,0,0</td><td>1,0,1,0,0,0,0,0,1,0,0,0,0,0.85323656,0.45882457,0.29955846</td></tr><tr><td>55</td><td>CMT</td><td>1</td><td>0.42661828</td><td>1.5099499</td><td>1.5899643</td><td>CRD</td><td>23</td><td>1,0</td><td>1,0,0,0,0,0</td><td>1,0,0,0,0</td><td>1,0,1,0,0,0,0,0,1,0,0,0,0,0.42661828,1.5099499,1.5899643</td></tr><tr><td>56</td><td>CMT</td><td>1</td><td>0.42661828</td><td>0.98796254</td><td>0.5991169</td><td>CRD</td><td>11.5</td><td>1,0</td><td>1,0,0,0,0,0</td><td>1,0,0,0,0</td><td>1,0,1,0,0,0,0,0,1,0,0,0,0,0.42661828,0.98796254,0.5991169</td></tr><tr><td>57</td><td>CMT</td><td>1</td><td>0.42661828</td><td>0.38016894</td><td>0.25347257</td><td>CRD</td><td>6.5</td><td>1,0</td><td>1,0,0,0,0,0</td><td>1,0,0,0,0</td><td>1,0,1,0,0,0,0,0,1,0,0,0,0,0.42661828,0.38016894,0.25347257</td></tr><tr><td>58</td><td>CMT</td><td>1</td><td>0.42661828</td><td>0.46478334</td><td>0.20738664</td><td>CRD</td><td>6.5</td><td>1,0</td><td>1,0,0,0,0,0</td><td>1,0,0,0,0</td><td>1,0,1,0,0,0,0,0,1,0,0,0,0,0.42661828,0.46478334,0.20738664</td></tr><tr><td>59</td><td>CMT</td><td>1</td><td>1.2798548</td><td>0.97723675</td><td>0.5991169</td><td>CRD</td><td>11.5</td><td>1,0</td><td>1,0,0,0,0,0</td><td>1,0,0,0,0</td><td>1,0,1,0,0,0,0,0,1,0,0,0,0,1.2798548,0.97723675,0.5991169</td></tr><tr><td>60</td><td>CMT</td><td>1</td><td>0.42661828</td><td>0.83661</td><td>0.85258955</td><td>CSH</td><td>13</td><td>1,0</td><td>1,0,0,0,0,0</td><td>0,1,0,0,0</td><td>1,0,1,0,0,0,0,0,0,1,0,0,0,0.42661828,0.83661,0.85258955</td></tr><tr><td>61</td><td>CMT</td><td>1</td><td>0.42661828</td><td>0.9188409</td><td>0.20738664</td><td>CSH</td><td>9</td><td>1,0</td><td>1,0,0,0,0,0</td><td>0,1,0,0,0</td><td>1,0,1,0,0,0,0,0,0,1,0,0,0,0.42661828,0.9188409,0.20738664</td></tr><tr><td>62</td><td>CMT</td><td>1</td><td>0.42661828</td><td>1.0129893</td><td>0.4608592</td><td>CRD</td><td>10.5</td><td>1,0</td><td>1,0,0,0,0,0</td><td>1,0,0,0,0</td><td>1,0,1,0,0,0,0,0,1,0,0,0,0,0.42661828,1.0129893,0.4608592</td></tr><tr><td>63</td><td>CMT</td><td>1</td><td>0.42661828</td><td>1.0082223</td><td>1.4517065</td><td>CSH</td><td>18.5</td><td>1,0</td><td>1,0,0,0,0,0</td><td>0,1,0,0,0</td><td>1,0,1,0,0,0,0,0,0,1,0,0,0,0.42661828,1.0082223,1.4517065</td></tr><tr><td>64</td><td>CMT</td><td>1</td><td>0.42661828</td><td>0.8306512</td><td>0.5530311</td><td>CRD</td><td>11</td><td>1,0</td><td>1,0,0,0,0,0</td><td>1,0,0,0,0</td><td>1,0,1,0,0,0,0,0,1,0,0,0,0,0.42661828,0.8306512,0.5530311</td></tr><tr><td>65</td><td>CMT</td><td>1</td><td>0.42661828</td><td>0.29078752</td><td>0.25347257</td><td>CRD</td><td>5.5</td><td>1,0</td><td>1,0,0,0,0,0</td><td>1,0,0,0,0</td><td>1,0,1,0,0,0,0,0,1,0,0,0,0,0.42661828,0.29078752,0.25347257</td></tr><tr><td>66</td><td>CMT</td><td>1</td><td>0.42661828</td><td>0.35633388</td><td>0.32260144</td><td>CRD</td><td>6.5</td><td>1,0</td><td>1,0,0,0,0,0</td><td>1,0,0,0,0</td><td>1,0,1,0,0,0,0,0,1,0,0,0,0,0.42661828,0.35633388,0.32260144</td></tr><tr><td>67</td><td>CMT</td><td>1</td><td>0.85323656</td><td>0.4028122</td><td>0.36868736</td><td>CRD</td><td>7</td><td>1,0</td><td>1,0,0,0,0,0</td><td>1,0,0,0,0</td><td>1,0,1,0,0,0,0,0,1,0,0,0,0,0.85323656,0.4028122,0.36868736</td></tr><tr><td>68</td><td>CMT</td><td>1</td><td>0.42661828</td><td>0.21094014</td><td>0.18434368</td><td>CRD</td><td>4.5</td><td>1,0</td><td>1,0,0,0,0,0</td><td>1,0,0,0,0</td><td>1,0,1,0,0,0,0,0,1,0,0,0,0,0.42661828,0.21094014,0.18434368</td></tr><tr><td>69</td><td>CMT</td><td>1</td><td>0.42661828</td><td>0.42426378</td><td>0.3456444</td><td>CRD</td><td>7.5</td><td>1,0</td><td>1,0,0,0,0,0</td><td>1,0,0,0,0</td><td>1,0,1,0,0,0,0,0,1,0,0,0,0,0.42661828,0.42426378,0.3456444</td></tr><tr><td>70</td><td>CMT</td><td>1</td><td>0.42661828</td><td>0.92718315</td><td>0.7834607</td><td>CRD</td><td>13</td><td>1,0</td><td>1,0,0,0,0,0</td><td>1,0,0,0,0</td><td>1,0,1,0,0,0,0,0,1,0,0,0,0,0.42661828,0.92718315,0.7834607</td></tr><tr><td>71</td><td>CMT</td><td>1</td><td>0.42661828</td><td>0.61256063</td><td>0.36868736</td><td>CRD</td><td>8</td><td>1,0</td><td>1,0,0,0,0,0</td><td>1,0,0,0,0</td><td>1,0,1,0,0,0,0,0,1,0,0,0,0,0.42661828,0.61256063,0.36868736</td></tr><tr><td>72</td><td>CMT</td><td>1</td><td>0.42661828</td><td>0.4433318</td><td>0.25347257</td><td>CRD</td><td>6.5</td><td>1,0</td><td>1,0,0,0,0,0</td><td>1,0,0,0,0</td><td>1,0,1,0,0,0,0,0,1,0,0,0,0,0.42661828,0.4433318,0.25347257</td></tr><tr><td>73</td><td>CMT</td><td>2</td><td>0.85323656</td><td>2.5074465</td><td>4.3320765</td><td>CRD</td><td>52</td><td>1,0</td><td>0,1,0,0,0,0</td><td>1,0,0,0,0</td><td>1,0,0,1,0,0,0,0,1,0,0,0,0,0.85323656,2.5074465,4.3320765</td></tr><tr><td>74</td><td>CMT</td><td>1</td><td>0.42661828</td><td>0.5827668</td><td>0.36868736</td><td>CSH</td><td>8.5</td><td>1,0</td><td>1,0,0,0,0,0</td><td>0,1,0,0,0</td><td>1,0,1,0,0,0,0,0,0,1,0,0,0,0.42661828,0.5827668,0.36868736</td></tr><tr><td>75</td><td>CMT</td><td>1</td><td>0.42661828</td><td>1.1917522</td><td>0.4147733</td><td>CSH</td><td>12</td><td>1,0</td><td>1,0,0,0,0,0</td><td>0,1,0,0,0</td><td>1,0,1,0,0,0,0,0,0,1,0,0,0,0.42661828,1.1917522,0.4147733</td></tr><tr><td>76</td><td>CMT</td><td>1</td><td>0.42661828</td><td>1.0010718</td><td>0.2304296</td><td>CRD</td><td>10</td><td>1,0</td><td>1,0,0,0,0,0</td><td>1,0,0,0,0</td><td>1,0,1,0,0,0,0,0,1,0,0,0,0,0.42661828,1.0010718,0.2304296</td></tr><tr><td>77</td><td>CMT</td><td>1</td><td>0.42661828</td><td>0.14658551</td><td>0.16130072</td><td>CSH</td><td>4</td><td>1,0</td><td>1,0,0,0,0,0</td><td>0,1,0,0,0</td><td>1,0,1,0,0,0,0,0,0,1,0,0,0,0.42661828,0.14658551,0.16130072</td></tr><tr><td>78</td><td>CMT</td><td>1</td><td>0.85323656</td><td>1.2751749</td><td>1.3595347</td><td>CRD</td><td>20</td><td>1,0</td><td>1,0,0,0,0,0</td><td>1,0,0,0,0</td><td>1,0,1,0,0,0,0,0,1,0,0,0,0,0.85323656,1.2751749,1.3595347</td></tr><tr><td>79</td><td>CMT</td><td>1</td><td>0.42661828</td><td>0.5088782</td><td>0.27651554</td><td>CSH</td><td>7</td><td>1,0</td><td>1,0,0,0,0,0</td><td>0,1,0,0,0</td><td>1,0,1,0,0,0,0,0,0,1,0,0,0,0.42661828,0.5088782,0.27651554</td></tr><tr><td>80</td><td>CMT</td><td>1</td><td>0.42661828</td><td>1.3347625</td><td>0.85258955</td><td>CRD</td><td>16</td><td>1,0</td><td>1,0,0,0,0,0</td><td>1,0,0,0,0</td><td>1,0,1,0,0,0,0,0,1,0,0,0,0,0.42661828,1.3347625,0.85258955</td></tr><tr><td>81</td><td>CMT</td><td>1</td><td>0.42661828</td><td>0.28721228</td><td>0.09217184</td><td>CSH</td><td>4.5</td><td>1,0</td><td>1,0,0,0,0,0</td><td>0,1,0,0,0</td><td>1,0,1,0,0,0,0,0,0,1,0,0,0,0.42661828,0.28721228,0.09217184</td></tr><tr><td>82</td><td>CMT</td><td>1</td><td>0.42661828</td><td>0.8068162</td><td>0.4147733</td><td>CRD</td><td>10</td><td>1,0</td><td>1,0,0,0,0,0</td><td>1,0,0,0,0</td><td>1,0,1,0,0,0,0,0,1,0,0,0,0,0.42661828,0.8068162,0.4147733</td></tr><tr><td>83</td><td>CMT</td><td>1</td><td>0.42661828</td><td>1.3717067</td><td>1.0369332</td><td>CRD</td><td>17.5</td><td>1,0</td><td>1,0,0,0,0,0</td><td>1,0,0,0,0</td><td>1,0,1,0,0,0,0,0,1,0,0,0,0,0.42661828,1.3717067,1.0369332</td></tr><tr><td>84</td><td>CMT</td><td>1</td><td>0.42661828</td><td>0.20974837</td><td>0.13825777</td><td>CRD</td><td>4.5</td><td>1,0</td><td>1,0,0,0,0,0</td><td>1,0,0,0,0</td><td>1,0,1,0,0,0,0,0,1,0,0,0,0,0.42661828,0.20974837,0.13825777</td></tr><tr><td>85</td><td>CMT</td><td>1</td><td>0.42661828</td><td>0.15850304</td><td>0.18434368</td><td>CRD</td><td>4.5</td><td>1,0</td><td>1,0,0,0,0,0</td><td>1,0,0,0,0</td><td>1,0,1,0,0,0,0,0,1,0,0,0,0,0.42661828,0.15850304,0.18434368</td></tr><tr><td>86</td><td>CMT</td><td>1</td><td>0.85323656</td><td>0.35990915</td><td>0.18434368</td><td>CSH</td><td>5.5</td><td>1,0</td><td>1,0,0,0,0,0</td><td>0,1,0,0,0</td><td>1,0,1,0,0,0,0,0,0,1,0,0,0,0.85323656,0.35990915,0.18434368</td></tr><tr><td>87</td><td>CMT</td><td>1</td><td>0.85323656</td><td>0.3384576</td><td>0.13825777</td><td>CRD</td><td>5</td><td>1,0</td><td>1,0,0,0,0,0</td><td>1,0,0,0,0</td><td>1,0,1,0,0,0,0,0,1,0,0,0,0,0.85323656,0.3384576,0.13825777</td></tr><tr><td>88</td><td>CMT</td><td>1</td><td>0.42661828</td><td>0.6471214</td><td>0.29955846</td><td>CRD</td><td>8</td><td>1,0</td><td>1,0,0,0,0,0</td><td>1,0,0,0,0</td><td>1,0,1,0,0,0,0,0,1,0,0,0,0,0.42661828,0.6471214,0.29955846</td></tr><tr><td>89</td><td>CMT</td><td>1</td><td>0.42661828</td><td>0.7960904</td><td>0.9678043</td><td>CRD</td><td>15</td><td>1,0</td><td>1,0,0,0,0,0</td><td>1,0,0,0,0</td><td>1,0,1,0,0,0,0,0,1,0,0,0,0,0.42661828,0.7960904,0.9678043</td></tr><tr><td>90</td><td>CMT</td><td>1</td><td>0.42661828</td><td>0.47908437</td><td>0.18434368</td><td>CRD</td><td>6</td><td>1,0</td><td>1,0,0,0,0,0</td><td>1,0,0,0,0</td><td>1,0,1,0,0,0,0,0,1,0,0,0,0,0.42661828,0.47908437,0.18434368</td></tr><tr><td>91</td><td>CMT</td><td>1</td><td>0.85323656</td><td>1.0570842</td><td>0.7604177</td><td>CSH</td><td>13</td><td>1,0</td><td>1,0,0,0,0,0</td><td>0,1,0,0,0</td><td>1,0,1,0,0,0,0,0,0,1,0,0,0,0.85323656,1.0570842,0.7604177</td></tr><tr><td>92</td><td>CMT</td><td>1</td><td>0.42661828</td><td>2.2714796</td><td>1.1982338</td><td>CSH</td><td>23.5</td><td>1,0</td><td>1,0,0,0,0,0</td><td>0,1,0,0,0</td><td>1,0,1,0,0,0,0,0,0,1,0,0,0,0.42661828,2.2714796,1.1982338</td></tr><tr><td>93</td><td>CMT</td><td>1</td><td>0.42661828</td><td>0.4254555</td><td>0.36868736</td><td>CRD</td><td>7</td><td>1,0</td><td>1,0,0,0,0,0</td><td>1,0,0,0,0</td><td>1,0,1,0,0,0,0,0,1,0,0,0,0,0.42661828,0.4254555,0.36868736</td></tr><tr><td>94</td><td>CMT</td><td>1</td><td>0.42661828</td><td>0.17042056</td><td>0.20738664</td><td>CSH</td><td>4.5</td><td>1,0</td><td>1,0,0,0,0,0</td><td>0,1,0,0,0</td><td>1,0,1,0,0,0,0,0,0,1,0,0,0,0.42661828,0.17042056,0.20738664</td></tr><tr><td>95</td><td>CMT</td><td>1</td><td>0.42661828</td><td>0.16088654</td><td>0.09217184</td><td>CRD</td><td>4</td><td>1,0</td><td>1,0,0,0,0,0</td><td>1,0,0,0,0</td><td>1,0,1,0,0,0,0,0,1,0,0,0,0,0.42661828,0.16088654,0.09217184</td></tr><tr><td>96</td><td>CMT</td><td>1</td><td>0.42661828</td><td>0.3956617</td><td>0.29955846</td><td>CRD</td><td>6.5</td><td>1,0</td><td>1,0,0,0,0,0</td><td>1,0,0,0,0</td><td>1,0,1,0,0,0,0,0,1,0,0,0,0,0.42661828,0.3956617,0.29955846</td></tr><tr><td>97</td><td>CMT</td><td>1</td><td>0.42661828</td><td>0.548206</td><td>0.39173034</td><td>CRD</td><td>8</td><td>1,0</td><td>1,0,0,0,0,0</td><td>1,0,0,0,0</td><td>1,0,1,0,0,0,0,0,1,0,0,0,0,0.42661828,0.548206,0.39173034</td></tr><tr><td>98</td><td>CMT</td><td>1</td><td>0.42661828</td><td>0.50172764</td><td>0.2304296</td><td>CSH</td><td>6.5</td><td>1,0</td><td>1,0,0,0,0,0</td><td>0,1,0,0,0</td><td>1,0,1,0,0,0,0,0,0,1,0,0,0,0.42661828,0.50172764,0.2304296</td></tr><tr><td>99</td><td>CMT</td><td>1</td><td>0.85323656</td><td>0.57442456</td><td>0.3456444</td><td>CSH</td><td>7.5</td><td>1,0</td><td>1,0,0,0,0,0</td><td>0,1,0,0,0</td><td>1,0,1,0,0,0,0,0,0,1,0,0,0,0.85323656,0.57442456,0.3456444</td></tr></tbody></table>"
      ]
     },
     "execution_count": 27,
     "metadata": {},
     "output_type": "execute_result"
    }
   ],
   "source": [
    "display(h1(\"Apply Data Transformations pipeline\"));\n",
    "\n",
    "var dataProcessPipeline = mlContext.Transforms.Categorical.OneHotEncoding(outputColumnName: \"VendorIdEncoded\", inputColumnName: nameof(TaxiTrip.VendorId))\n",
    "                  .Append(mlContext.Transforms.Categorical.OneHotEncoding(outputColumnName: \"RateCodeEncoded\", inputColumnName: nameof(TaxiTrip.RateCode)))\n",
    "                  .Append(mlContext.Transforms.Categorical.OneHotEncoding(outputColumnName: \"PaymentTypeEncoded\",inputColumnName: nameof(TaxiTrip.PaymentType)))\n",
    "                  .Append(mlContext.Transforms.NormalizeMeanVariance(outputColumnName: nameof(TaxiTrip.PassengerCount)))\n",
    "                  .Append(mlContext.Transforms.NormalizeMeanVariance(outputColumnName: nameof(TaxiTrip.TripTime)))\n",
    "                  .Append(mlContext.Transforms.NormalizeMeanVariance(outputColumnName: nameof(TaxiTrip.TripDistance)))\n",
    "                  .Append(mlContext.Transforms.Concatenate(\"Features\", \"VendorIdEncoded\", \"RateCodeEncoded\", \"PaymentTypeEncoded\", \n",
    "                                                           nameof(TaxiTrip.PassengerCount), nameof(TaxiTrip.TripTime), nameof(TaxiTrip.TripDistance)));\n",
    "\n",
    "display(h3(\"Show transformed data...\"));\n",
    "\n",
    "var transformation = dataProcessPipeline.Fit(trainDataView).Transform(trainDataView);\n",
    "transformation.Preview()\n"
   ]
  },
  {
   "cell_type": "markdown",
   "metadata": {},
   "source": [
    "# Append the trainer/algorithm to pipeline and train the model"
   ]
  },
  {
   "cell_type": "code",
   "execution_count": 41,
   "metadata": {},
   "outputs": [
    {
     "data": {
      "text/html": [
       "<h1>Build Training Pipeline and Train the model</h1>"
      ]
     },
     "metadata": {},
     "output_type": "display_data"
    },
    {
     "data": {
      "text/html": [
       "<h4>Creating the Training Pipeline with trainer/algorithm</h4>"
      ]
     },
     "metadata": {},
     "output_type": "display_data"
    },
    {
     "data": {
      "text/plain": [
       "=============== Training the model ==============="
      ]
     },
     "metadata": {},
     "output_type": "display_data"
    },
    {
     "data": {
      "text/plain": [
       "Wall time: 836.6623000000001ms"
      ]
     },
     "metadata": {},
     "output_type": "display_data"
    }
   ],
   "source": [
    "%%time\n",
    "display(h1(\"Build Training Pipeline and Train the model\"));\n",
    "display(h4(\"Creating the Training Pipeline with trainer/algorithm\"));\n",
    "\n",
    "// STEP 3: Set the training algorithm - Selected Trainer (SDCA Regression algorithm)                            \n",
    "var trainer = mlContext.Regression.Trainers.Ols(labelColumnName: \"FareAmount\", featureColumnName: \"Features\");\n",
    "var trainingPipeline = dataProcessPipeline.Append(trainer);\n",
    "\n",
    "// STEP 4: Train the model fitting to the DataSet\n",
    "//The pipeline is trained on the dataset that has been loaded and transformed.\n",
    "display(\"=============== Training the model ===============\");\n",
    "var trainedModel = trainingPipeline.Fit(trainDataView);"
   ]
  },
  {
   "cell_type": "markdown",
   "metadata": {},
   "source": [
    "## Make predictions in bulk from the TestDataset to be used for the metrics"
   ]
  },
  {
   "cell_type": "code",
   "execution_count": 42,
   "metadata": {},
   "outputs": [
    {
     "data": {
      "text/html": [
       "<h3>===== Making predictions in bulk for the whole Test Dataset =====</h3>"
      ]
     },
     "metadata": {},
     "output_type": "display_data"
    },
    {
     "data": {
      "text/html": [
       "<table><thead><th><i>index</i></th><th>VendorId</th><th>RateCode</th><th>PassengerCount</th><th>TripTime</th><th>TripDistance</th><th>PaymentType</th><th>FareAmount</th><th>VendorIdEncoded</th><th>RateCodeEncoded</th><th>PaymentTypeEncoded</th><th>Features</th><th>Score</th></thead><tbody><tr><td>0</td><td>VTS</td><td>1</td><td>0.42661828</td><td>1.3585974</td><td>0.864111</td><td>CRD</td><td>15.5</td><td>0,1</td><td>1,0,0,0,0,0</td><td>1,0,0,0,0</td><td>0,1,1,0,0,0,0,0,1,0,0,0,0,0.42661828,1.3585974,0.864111</td><td>15.772648</td></tr><tr><td>1</td><td>VTS</td><td>1</td><td>0.42661828</td><td>0.57204103</td><td>0.6267685</td><td>CRD</td><td>10</td><td>0,1</td><td>1,0,0,0,0,0</td><td>1,0,0,0,0</td><td>0,1,1,0,0,0,0,0,1,0,0,0,0,0.42661828,0.57204103,0.6267685</td><td>10.052195</td></tr><tr><td>2</td><td>VTS</td><td>1</td><td>0.42661828</td><td>2.0021436</td><td>1.797351</td><td>CSH</td><td>26.5</td><td>0,1</td><td>1,0,0,0,0,0</td><td>0,1,0,0,0</td><td>0,1,1,0,0,0,0,0,0,1,0,0,0,0.42661828,2.0021436,1.797351</td><td>25.492914</td></tr><tr><td>3</td><td>VTS</td><td>1</td><td>0.42661828</td><td>0.7150513</td><td>1.0899321</td><td>CSH</td><td>14.5</td><td>0,1</td><td>1,0,0,0,0,0</td><td>0,1,0,0,0</td><td>0,1,1,0,0,0,0,0,0,1,0,0,0,0.42661828,0.7150513,1.0899321</td><td>13.878612</td></tr><tr><td>4</td><td>VTS</td><td>1</td><td>0.42661828</td><td>0.7150513</td><td>0.50233656</td><td>CRD</td><td>9.5</td><td>0,1</td><td>1,0,0,0,0,0</td><td>1,0,0,0,0</td><td>0,1,1,0,0,0,0,0,1,0,0,0,0,0.42661828,0.7150513,0.50233656</td><td>9.908529</td></tr><tr><td>5</td><td>VTS</td><td>1</td><td>0.42661828</td><td>1.5016077</td><td>2.3803377</td><td>CSH</td><td>29.5</td><td>0,1</td><td>1,0,0,0,0,0</td><td>0,1,0,0,0</td><td>0,1,1,0,0,0,0,0,0,1,0,0,0,0.42661828,1.5016077,2.3803377</td><td>27.037437</td></tr><tr><td>6</td><td>VTS</td><td>1</td><td>0.42661828</td><td>0.7150513</td><td>0.4631635</td><td>CSH</td><td>9</td><td>0,1</td><td>1,0,0,0,0,0</td><td>0,1,0,0,0</td><td>0,1,1,0,0,0,0,0,0,1,0,0,0,0.42661828,0.7150513,0.4631635</td><td>9.451395</td></tr><tr><td>7</td><td>VTS</td><td>1</td><td>0.42661828</td><td>0.57204103</td><td>0.3456444</td><td>CRD</td><td>7.5</td><td>0,1</td><td>1,0,0,0,0,0</td><td>1,0,0,0,0</td><td>0,1,1,0,0,0,0,0,1,0,0,0,0,0.42661828,0.57204103,0.3456444</td><td>8.066458</td></tr><tr><td>8</td><td>VTS</td><td>1</td><td>0.42661828</td><td>0.7865564</td><td>0.5737697</td><td>CSH</td><td>10.5</td><td>0,1</td><td>1,0,0,0,0,0</td><td>0,1,0,0,0</td><td>0,1,1,0,0,0,0,0,0,1,0,0,0,0.42661828,0.7865564,0.5737697</td><td>10.600302</td></tr><tr><td>9</td><td>VTS</td><td>1</td><td>0.42661828</td><td>0.42903078</td><td>0.26038545</td><td>CRD</td><td>6</td><td>0,1</td><td>1,0,0,0,0,0</td><td>1,0,0,0,0</td><td>0,1,1,0,0,0,0,0,1,0,0,0,0,0.42661828,0.42903078,0.26038545</td><td>6.728958</td></tr><tr><td>10</td><td>VTS</td><td>1</td><td>0.42661828</td><td>0.9295667</td><td>0.39864323</td><td>CRD</td><td>10</td><td>0,1</td><td>1,0,0,0,0,0</td><td>1,0,0,0,0</td><td>0,1,1,0,0,0,0,0,1,0,0,0,0,0.42661828,0.9295667,0.39864323</td><td>10.278987</td></tr><tr><td>11</td><td>VTS</td><td>1</td><td>0.42661828</td><td>0.5005359</td><td>0.47698927</td><td>CSH</td><td>9</td><td>0,1</td><td>1,0,0,0,0,0</td><td>0,1,0,0,0</td><td>0,1,1,0,0,0,0,0,0,1,0,0,0,0.42661828,0.5005359,0.47698927</td><td>8.446153</td></tr><tr><td>12</td><td>VTS</td><td>1</td><td>0.42661828</td><td>0.9295667</td><td>0.48159784</td><td>CRD</td><td>10.5</td><td>0,1</td><td>1,0,0,0,0,0</td><td>1,0,0,0,0</td><td>0,1,1,0,0,0,0,0,1,0,0,0,0,0.42661828,0.9295667,0.48159784</td><td>10.864942</td></tr><tr><td>13</td><td>VTS</td><td>1</td><td>0.42661828</td><td>0.7865564</td><td>0.50924945</td><td>CRD</td><td>10</td><td>0,1</td><td>1,0,0,0,0,0</td><td>1,0,0,0,0</td><td>0,1,1,0,0,0,0,0,1,0,0,0,0,0.42661828,0.7865564,0.50924945</td><td>10.324993</td></tr><tr><td>14</td><td>VTS</td><td>1</td><td>0.42661828</td><td>1.6446179</td><td>1.1314093</td><td>CRD</td><td>19</td><td>0,1</td><td>1,0,0,0,0,0</td><td>1,0,0,0,0</td><td>0,1,1,0,0,0,0,0,1,0,0,0,0,0.42661828,1.6446179,1.1314093</td><td>19.13126</td></tr><tr><td>15</td><td>VTS</td><td>1</td><td>0.42661828</td><td>0.7150513</td><td>0.3548616</td><td>CRD</td><td>8.5</td><td>0,1</td><td>1,0,0,0,0,0</td><td>1,0,0,0,0</td><td>0,1,1,0,0,0,0,0,1,0,0,0,0,0.42661828,0.7150513,0.3548616</td><td>8.866831</td></tr><tr><td>16</td><td>VTS</td><td>1</td><td>0.42661828</td><td>1.0010718</td><td>0.72585326</td><td>CRD</td><td>12.5</td><td>0,1</td><td>1,0,0,0,0,0</td><td>1,0,0,0,0</td><td>0,1,1,0,0,0,0,0,1,0,0,0,0,0.42661828,1.0010718,0.72585326</td><td>12.957888</td></tr><tr><td>17</td><td>VTS</td><td>1</td><td>0.42661828</td><td>0.21451539</td><td>0.2281253</td><td>CRD</td><td>5</td><td>0,1</td><td>1,0,0,0,0,0</td><td>1,0,0,0,0</td><td>0,1,1,0,0,0,0,0,1,0,0,0,0,0.42661828,0.21451539,0.2281253</td><td>5.3981857</td></tr><tr><td>18</td><td>VTS</td><td>1</td><td>0.42661828</td><td>0.7150513</td><td>0.3548616</td><td>CRD</td><td>8.5</td><td>0,1</td><td>1,0,0,0,0,0</td><td>1,0,0,0,0</td><td>0,1,1,0,0,0,0,0,1,0,0,0,0,0.42661828,0.7150513,0.3548616</td><td>8.866831</td></tr><tr><td>19</td><td>VTS</td><td>1</td><td>0.42661828</td><td>1.4301026</td><td>0.41016468</td><td>CSH</td><td>13</td><td>0,1</td><td>1,0,0,0,0,0</td><td>0,1,0,0,0</td><td>0,1,1,0,0,0,0,0,0,1,0,0,0,0.42661828,1.4301026,0.41016468</td><td>12.753372</td></tr><tr><td>20</td><td>VTS</td><td>1</td><td>0.42661828</td><td>0.57204103</td><td>0.18895227</td><td>CRD</td><td>6.5</td><td>0,1</td><td>1,0,0,0,0,0</td><td>1,0,0,0,0</td><td>0,1,1,0,0,0,0,0,1,0,0,0,0,0.42661828,0.57204103,0.18895227</td><td>6.959654</td></tr><tr><td>21</td><td>VTS</td><td>1</td><td>0.42661828</td><td>0.7865564</td><td>0.66133296</td><td>CRD</td><td>11.5</td><td>0,1</td><td>1,0,0,0,0,0</td><td>1,0,0,0,0</td><td>0,1,1,0,0,0,0,0,1,0,0,0,0,0.42661828,0.7865564,0.66133296</td><td>11.399244</td></tr><tr><td>22</td><td>VTS</td><td>1</td><td>0.42661828</td><td>1.0010718</td><td>0.38481742</td><td>CRD</td><td>10</td><td>0,1</td><td>1,0,0,0,0,0</td><td>1,0,0,0,0</td><td>0,1,1,0,0,0,0,0,1,0,0,0,0,0.42661828,1.0010718,0.38481742</td><td>10.548961</td></tr><tr><td>23</td><td>VTS</td><td>1</td><td>0.42661828</td><td>0.57204103</td><td>0.21660383</td><td>CRD</td><td>7</td><td>0,1</td><td>1,0,0,0,0,0</td><td>1,0,0,0,0</td><td>0,1,1,0,0,0,0,0,1,0,0,0,0,0.42661828,0.57204103,0.21660383</td><td>7.154972</td></tr><tr><td>24</td><td>VTS</td><td>1</td><td>0.42661828</td><td>0.7865564</td><td>0.77193916</td><td>CRD</td><td>12.5</td><td>0,1</td><td>1,0,0,0,0,0</td><td>1,0,0,0,0</td><td>0,1,1,0,0,0,0,0,1,0,0,0,0,0.42661828,0.7865564,0.77193916</td><td>12.180517</td></tr><tr><td>25</td><td>VTS</td><td>1</td><td>0.42661828</td><td>0.14301026</td><td>0.078346066</td><td>CSH</td><td>3</td><td>0,1</td><td>1,0,0,0,0,0</td><td>0,1,0,0,0</td><td>0,1,1,0,0,0,0,0,0,1,0,0,0,0.42661828,0.14301026,0.078346066</td><td>3.7921438</td></tr><tr><td>26</td><td>VTS</td><td>1</td><td>0.42661828</td><td>0.35752565</td><td>0.5115537</td><td>CSH</td><td>8</td><td>0,1</td><td>1,0,0,0,0,0</td><td>0,1,0,0,0</td><td>0,1,1,0,0,0,0,0,0,1,0,0,0,0.42661828,0.35752565,0.5115537</td><td>7.9550323</td></tr><tr><td>27</td><td>VTS</td><td>1</td><td>0.42661828</td><td>1.1440821</td><td>1.1014535</td><td>CSH</td><td>16</td><td>0,1</td><td>1,0,0,0,0,0</td><td>0,1,0,0,0</td><td>0,1,1,0,0,0,0,0,0,1,0,0,0,0.42661828,1.1440821,1.1014535</td><td>16.165796</td></tr><tr><td>28</td><td>VTS</td><td>1</td><td>0.42661828</td><td>1.0725769</td><td>0.6958974</td><td>CRD</td><td>13</td><td>0,1</td><td>1,0,0,0,0,0</td><td>1,0,0,0,0</td><td>0,1,1,0,0,0,0,0,1,0,0,0,0,0.42661828,1.0725769,0.6958974</td><td>13.113926</td></tr><tr><td>29</td><td>VTS</td><td>1</td><td>0.42661828</td><td>0.35752565</td><td>0.26960263</td><td>CSH</td><td>6</td><td>0,1</td><td>1,0,0,0,0,0</td><td>0,1,0,0,0</td><td>0,1,1,0,0,0,0,0,0,1,0,0,0,0.42661828,0.35752565,0.26960263</td><td>6.2459974</td></tr><tr><td>30</td><td>VTS</td><td>1</td><td>0.42661828</td><td>0.7150513</td><td>0.58759546</td><td>CSH</td><td>10</td><td>0,1</td><td>1,0,0,0,0,0</td><td>0,1,0,0,0</td><td>0,1,1,0,0,0,0,0,0,1,0,0,0,0.42661828,0.7150513,0.58759546</td><td>10.330328</td></tr><tr><td>31</td><td>VTS</td><td>1</td><td>0.42661828</td><td>0.5005359</td><td>0.33181864</td><td>CSH</td><td>7</td><td>0,1</td><td>1,0,0,0,0,0</td><td>0,1,0,0,0</td><td>0,1,1,0,0,0,0,0,0,1,0,0,0,0.42661828,0.5005359,0.33181864</td><td>7.4207315</td></tr><tr><td>32</td><td>VTS</td><td>1</td><td>0.42661828</td><td>0.42903078</td><td>0.31568855</td><td>CSH</td><td>7</td><td>0,1</td><td>1,0,0,0,0,0</td><td>0,1,0,0,0</td><td>0,1,1,0,0,0,0,0,0,1,0,0,0,0.42661828,0.42903078,0.31568855</td><td>6.9391613</td></tr><tr><td>33</td><td>VTS</td><td>1</td><td>0.42661828</td><td>1.0725769</td><td>0.5922041</td><td>CRD</td><td>12.5</td><td>0,1</td><td>1,0,0,0,0,0</td><td>1,0,0,0,0</td><td>0,1,1,0,0,0,0,0,1,0,0,0,0,0.42661828,1.0725769,0.5922041</td><td>12.381482</td></tr><tr><td>34</td><td>VTS</td><td>1</td><td>0.42661828</td><td>0.5005359</td><td>0.32490572</td><td>CRD</td><td>7</td><td>0,1</td><td>1,0,0,0,0,0</td><td>1,0,0,0,0</td><td>0,1,1,0,0,0,0,0,1,0,0,0,0,0.42661828,0.5005359,0.32490572</td><td>7.552335</td></tr><tr><td>35</td><td>VTS</td><td>1</td><td>0.42661828</td><td>1.1440821</td><td>0.47929356</td><td>CRD</td><td>11.5</td><td>0,1</td><td>1,0,0,0,0,0</td><td>1,0,0,0,0</td><td>0,1,1,0,0,0,0,0,1,0,0,0,0,0.42661828,1.1440821,0.47929356</td><td>11.951567</td></tr><tr><td>36</td><td>VTS</td><td>1</td><td>0.42661828</td><td>0.42903078</td><td>0.3525573</td><td>CRD</td><td>7</td><td>0,1</td><td>1,0,0,0,0,0</td><td>1,0,0,0,0</td><td>0,1,1,0,0,0,0,0,1,0,0,0,0,0.42661828,0.42903078,0.3525573</td><td>7.38002</td></tr><tr><td>37</td><td>VTS</td><td>1</td><td>0.42661828</td><td>1.2870923</td><td>0.5737697</td><td>CRD</td><td>14</td><td>0,1</td><td>1,0,0,0,0,0</td><td>1,0,0,0,0</td><td>0,1,1,0,0,0,0,0,1,0,0,0,0,0.42661828,1.2870923,0.5737697</td><td>13.354172</td></tr><tr><td>38</td><td>VTS</td><td>1</td><td>0.42661828</td><td>0.28602052</td><td>0.108301915</td><td>CSH</td><td>4.5</td><td>0,1</td><td>1,0,0,0,0,0</td><td>0,1,0,0,0</td><td>0,1,1,0,0,0,0,0,0,1,0,0,0,0.42661828,0.28602052,0.108301915</td><td>4.739006</td></tr><tr><td>39</td><td>VTS</td><td>1</td><td>0.42661828</td><td>0.64354616</td><td>0.33642724</td><td>CRD</td><td>8.5</td><td>0,1</td><td>1,0,0,0,0,0</td><td>1,0,0,0,0</td><td>0,1,1,0,0,0,0,0,1,0,0,0,0,0.42661828,0.64354616,0.33642724</td><td>8.368985</td></tr><tr><td>40</td><td>VTS</td><td>1</td><td>0.42661828</td><td>0.42903078</td><td>0.39403462</td><td>CRD</td><td>7.5</td><td>0,1</td><td>1,0,0,0,0,0</td><td>1,0,0,0,0</td><td>0,1,1,0,0,0,0,0,1,0,0,0,0,0.42661828,0.42903078,0.39403462</td><td>7.6729965</td></tr><tr><td>41</td><td>VTS</td><td>1</td><td>0.42661828</td><td>1.5731128</td><td>0.67055017</td><td>CRD</td><td>15.5</td><td>0,1</td><td>1,0,0,0,0,0</td><td>1,0,0,0,0</td><td>0,1,1,0,0,0,0,0,1,0,0,0,0,0.42661828,1.5731128,0.67055017</td><td>15.508322</td></tr><tr><td>42</td><td>VTS</td><td>1</td><td>0.42661828</td><td>0.9295667</td><td>0.6452029</td><td>CSH</td><td>11.5</td><td>0,1</td><td>1,0,0,0,0,0</td><td>0,1,0,0,0</td><td>0,1,1,0,0,0,0,0,0,1,0,0,0,0.42661828,0.9295667,0.6452029</td><td>11.840142</td></tr><tr><td>43</td><td>VTS</td><td>1</td><td>0.42661828</td><td>0.42903078</td><td>0.23503819</td><td>CSH</td><td>6</td><td>0,1</td><td>1,0,0,0,0,0</td><td>0,1,0,0,0</td><td>0,1,1,0,0,0,0,0,0,1,0,0,0,0.42661828,0.42903078,0.23503819</td><td>6.369483</td></tr><tr><td>44</td><td>VTS</td><td>1</td><td>0.42661828</td><td>0.9295667</td><td>0.8802411</td><td>CSH</td><td>14.5</td><td>0,1</td><td>1,0,0,0,0,0</td><td>0,1,0,0,0</td><td>0,1,1,0,0,0,0,0,0,1,0,0,0,0.42661828,0.9295667,0.8802411</td><td>13.500349</td></tr><tr><td>45</td><td>VTS</td><td>1</td><td>0.42661828</td><td>0.28602052</td><td>0.29955846</td><td>CRD</td><td>5.5</td><td>0,1</td><td>1,0,0,0,0,0</td><td>1,0,0,0,0</td><td>0,1,1,0,0,0,0,0,1,0,0,0,0,0.42661828,0.28602052,0.29955846</td><td>6.2703915</td></tr><tr><td>46</td><td>VTS</td><td>1</td><td>0.42661828</td><td>0.42903078</td><td>0.1774308</td><td>CSH</td><td>5.5</td><td>0,1</td><td>1,0,0,0,0,0</td><td>0,1,0,0,0</td><td>0,1,1,0,0,0,0,0,0,1,0,0,0,0.42661828,0.42903078,0.1774308</td><td>5.96257</td></tr><tr><td>47</td><td>VTS</td><td>1</td><td>0.42661828</td><td>0.21451539</td><td>0.17973508</td><td>CSH</td><td>4.5</td><td>0,1</td><td>1,0,0,0,0,0</td><td>0,1,0,0,0</td><td>0,1,1,0,0,0,0,0,0,1,0,0,0,0.42661828,0.21451539,0.17973508</td><td>4.875945</td></tr><tr><td>48</td><td>VTS</td><td>1</td><td>0.42661828</td><td>1.0010718</td><td>1.0369332</td><td>CSH</td><td>16</td><td>0,1</td><td>1,0,0,0,0,0</td><td>0,1,0,0,0</td><td>0,1,1,0,0,0,0,0,0,1,0,0,0,0.42661828,1.0010718,1.0369332</td><td>14.974785</td></tr><tr><td>49</td><td>VTS</td><td>1</td><td>0.42661828</td><td>0.14301026</td><td>0.117519096</td><td>CSH</td><td>3.5</td><td>0,1</td><td>1,0,0,0,0,0</td><td>0,1,0,0,0</td><td>0,1,1,0,0,0,0,0,0,1,0,0,0,0.42661828,0.14301026,0.117519096</td><td>4.068845</td></tr><tr><td>50</td><td>VTS</td><td>1</td><td>0.42661828</td><td>0.21451539</td><td>0.1774308</td><td>CSH</td><td>4.5</td><td>0,1</td><td>1,0,0,0,0,0</td><td>0,1,0,0,0</td><td>0,1,1,0,0,0,0,0,0,1,0,0,0,0.42661828,0.21451539,0.1774308</td><td>4.8596687</td></tr><tr><td>51</td><td>VTS</td><td>1</td><td>0.42661828</td><td>1.0010718</td><td>0.5806826</td><td>CRD</td><td>12</td><td>0,1</td><td>1,0,0,0,0,0</td><td>1,0,0,0,0</td><td>0,1,1,0,0,0,0,0,1,0,0,0,0,0.42661828,1.0010718,0.5806826</td><td>11.932466</td></tr><tr><td>52</td><td>VTS</td><td>1</td><td>0.42661828</td><td>0.9295667</td><td>0.5783783</td><td>CSH</td><td>11</td><td>0,1</td><td>1,0,0,0,0,0</td><td>0,1,0,0,0</td><td>0,1,1,0,0,0,0,0,0,1,0,0,0,0.42661828,0.9295667,0.5783783</td><td>11.368123</td></tr><tr><td>53</td><td>VTS</td><td>1</td><td>0.42661828</td><td>0.42903078</td><td>0.49081507</td><td>CRD</td><td>8</td><td>0,1</td><td>1,0,0,0,0,0</td><td>1,0,0,0,0</td><td>0,1,1,0,0,0,0,0,1,0,0,0,0,0.42661828,0.42903078,0.49081507</td><td>8.356611</td></tr><tr><td>54</td><td>VTS</td><td>1</td><td>0.42661828</td><td>0.57204103</td><td>0.48620644</td><td>CRD</td><td>9</td><td>0,1</td><td>1,0,0,0,0,0</td><td>1,0,0,0,0</td><td>0,1,1,0,0,0,0,0,1,0,0,0,0,0.42661828,0.57204103,0.48620644</td><td>9.059326</td></tr><tr><td>55</td><td>VTS</td><td>1</td><td>0.42661828</td><td>0.42903078</td><td>0.41016468</td><td>CSH</td><td>7.5</td><td>0,1</td><td>1,0,0,0,0,0</td><td>0,1,0,0,0</td><td>0,1,1,0,0,0,0,0,0,1,0,0,0,0.42661828,0.42903078,0.41016468</td><td>7.6064997</td></tr><tr><td>56</td><td>VTS</td><td>1</td><td>0.42661828</td><td>0.9295667</td><td>0.71433175</td><td>CRD</td><td>12.5</td><td>0,1</td><td>1,0,0,0,0,0</td><td>1,0,0,0,0</td><td>0,1,1,0,0,0,0,0,1,0,0,0,0,0.42661828,0.9295667,0.71433175</td><td>12.508871</td></tr><tr><td>57</td><td>VTS</td><td>1</td><td>0.42661828</td><td>0.7865564</td><td>0.47238067</td><td>CRD</td><td>10</td><td>0,1</td><td>1,0,0,0,0,0</td><td>1,0,0,0,0</td><td>0,1,1,0,0,0,0,0,1,0,0,0,0,0.42661828,0.7865564,0.47238067</td><td>10.064568</td></tr><tr><td>58</td><td>VTS</td><td>1</td><td>0.42661828</td><td>0.7150513</td><td>0.2281253</td><td>CSH</td><td>8</td><td>0,1</td><td>1,0,0,0,0,0</td><td>0,1,0,0,0</td><td>0,1,1,0,0,0,0,0,0,1,0,0,0,0.42661828,0.7150513,0.2281253</td><td>7.791189</td></tr><tr><td>59</td><td>VTS</td><td>1</td><td>0.42661828</td><td>0.7865564</td><td>0.1820394</td><td>CRD</td><td>8.5</td><td>0,1</td><td>1,0,0,0,0,0</td><td>1,0,0,0,0</td><td>0,1,1,0,0,0,0,0,1,0,0,0,0,0.42661828,0.7865564,0.1820394</td><td>8.013725</td></tr><tr><td>60</td><td>VTS</td><td>1</td><td>0.42661828</td><td>0.35752565</td><td>0.20738664</td><td>CSH</td><td>5.5</td><td>0,1</td><td>1,0,0,0,0,0</td><td>0,1,0,0,0</td><td>0,1,1,0,0,0,0,0,0,1,0,0,0,0.42661828,0.35752565,0.20738664</td><td>5.806531</td></tr><tr><td>61</td><td>VTS</td><td>1</td><td>0.42661828</td><td>0.64354616</td><td>0.73967904</td><td>CRD</td><td>11.5</td><td>0,1</td><td>1,0,0,0,0,0</td><td>1,0,0,0,0</td><td>0,1,1,0,0,0,0,0,1,0,0,0,0,0.42661828,0.64354616,0.73967904</td><td>11.217379</td></tr><tr><td>62</td><td>VTS</td><td>1</td><td>0.42661828</td><td>0.21451539</td><td>0.19586517</td><td>CSH</td><td>5</td><td>0,1</td><td>1,0,0,0,0,0</td><td>0,1,0,0,0</td><td>0,1,1,0,0,0,0,0,0,1,0,0,0,0.42661828,0.21451539,0.19586517</td><td>4.9898806</td></tr><tr><td>63</td><td>VTS</td><td>1</td><td>0.42661828</td><td>0.21451539</td><td>0.18434368</td><td>CSH</td><td>4.5</td><td>0,1</td><td>1,0,0,0,0,0</td><td>0,1,0,0,0</td><td>0,1,1,0,0,0,0,0,0,1,0,0,0,0.42661828,0.21451539,0.18434368</td><td>4.908498</td></tr><tr><td>64</td><td>VTS</td><td>1</td><td>0.42661828</td><td>0.7150513</td><td>0.36638308</td><td>CSH</td><td>8.5</td><td>0,1</td><td>1,0,0,0,0,0</td><td>0,1,0,0,0</td><td>0,1,1,0,0,0,0,0,0,1,0,0,0,0.42661828,0.7150513,0.36638308</td><td>8.76778</td></tr><tr><td>65</td><td>VTS</td><td>1</td><td>0.42661828</td><td>0.42903078</td><td>0.44242483</td><td>CSH</td><td>7.5</td><td>0,1</td><td>1,0,0,0,0,0</td><td>0,1,0,0,0</td><td>0,1,1,0,0,0,0,0,0,1,0,0,0,0.42661828,0.42903078,0.44242483</td><td>7.8343706</td></tr><tr><td>66</td><td>VTS</td><td>1</td><td>0.42661828</td><td>0.9295667</td><td>0.6083342</td><td>CRD</td><td>11</td><td>0,1</td><td>1,0,0,0,0,0</td><td>1,0,0,0,0</td><td>0,1,1,0,0,0,0,0,1,0,0,0,0,0.42661828,0.9295667,0.6083342</td><td>11.760151</td></tr><tr><td>67</td><td>VTS</td><td>1</td><td>0.42661828</td><td>2.216659</td><td>1.0807148</td><td>CSH</td><td>22.5</td><td>0,1</td><td>1,0,0,0,0,0</td><td>0,1,0,0,0</td><td>0,1,1,0,0,0,0,0,0,1,0,0,0,0.42661828,2.216659,1.0807148</td><td>21.533815</td></tr><tr><td>68</td><td>VTS</td><td>1</td><td>0.42661828</td><td>0.7150513</td><td>0.30186278</td><td>CSH</td><td>8.5</td><td>0,1</td><td>1,0,0,0,0,0</td><td>0,1,0,0,0</td><td>0,1,1,0,0,0,0,0,0,1,0,0,0,0.42661828,0.7150513,0.30186278</td><td>8.312038</td></tr><tr><td>69</td><td>VTS</td><td>1</td><td>0.42661828</td><td>1.4301026</td><td>0.67746305</td><td>CRD</td><td>15</td><td>0,1</td><td>1,0,0,0,0,0</td><td>1,0,0,0,0</td><td>0,1,1,0,0,0,0,0,1,0,0,0,0,0.42661828,1.4301026,0.67746305</td><td>14.821883</td></tr><tr><td>70</td><td>VTS</td><td>1</td><td>0.42661828</td><td>0.14301026</td><td>0.15208355</td><td>CSH</td><td>4</td><td>0,1</td><td>1,0,0,0,0,0</td><td>0,1,0,0,0</td><td>0,1,1,0,0,0,0,0,0,1,0,0,0,0.42661828,0.14301026,0.15208355</td><td>4.312993</td></tr><tr><td>71</td><td>VTS</td><td>1</td><td>0.42661828</td><td>0.7150513</td><td>0.350253</td><td>CRD</td><td>8.5</td><td>0,1</td><td>1,0,0,0,0,0</td><td>1,0,0,0,0</td><td>0,1,1,0,0,0,0,0,1,0,0,0,0,0.42661828,0.7150513,0.350253</td><td>8.834278</td></tr><tr><td>72</td><td>VTS</td><td>1</td><td>0.42661828</td><td>0.64354616</td><td>0.19816947</td><td>CSH</td><td>7</td><td>0,1</td><td>1,0,0,0,0,0</td><td>0,1,0,0,0</td><td>0,1,1,0,0,0,0,0,0,1,0,0,0,0.42661828,0.64354616,0.19816947</td><td>7.21196</td></tr><tr><td>73</td><td>VTS</td><td>1</td><td>0.42661828</td><td>0.28602052</td><td>0.38712174</td><td>CRD</td><td>6.5</td><td>0,1</td><td>1,0,0,0,0,0</td><td>1,0,0,0,0</td><td>0,1,1,0,0,0,0,0,1,0,0,0,0,0.42661828,0.28602052,0.38712174</td><td>6.8889</td></tr><tr><td>74</td><td>VTS</td><td>1</td><td>0.42661828</td><td>0.7865564</td><td>0.6244642</td><td>CRD</td><td>11.5</td><td>0,1</td><td>1,0,0,0,0,0</td><td>1,0,0,0,0</td><td>0,1,1,0,0,0,0,0,1,0,0,0,0,0.42661828,0.7865564,0.6244642</td><td>11.138819</td></tr><tr><td>75</td><td>VTS</td><td>1</td><td>0.42661828</td><td>0.14301026</td><td>0.14286636</td><td>CRD</td><td>4</td><td>0,1</td><td>1,0,0,0,0,0</td><td>1,0,0,0,0</td><td>0,1,1,0,0,0,0,0,1,0,0,0,0,0.42661828,0.14301026,0.14286636</td><td>4.42832</td></tr><tr><td>76</td><td>VTS</td><td>1</td><td>0.42661828</td><td>0.85806155</td><td>0.38942605</td><td>CRD</td><td>10</td><td>0,1</td><td>1,0,0,0,0,0</td><td>1,0,0,0,0</td><td>0,1,1,0,0,0,0,0,1,0,0,0,0,0.42661828,0.85806155,0.38942605</td><td>9.846247</td></tr><tr><td>77</td><td>VTS</td><td>1</td><td>0.42661828</td><td>0.85806155</td><td>0.35716587</td><td>CRD</td><td>10</td><td>0,1</td><td>1,0,0,0,0,0</td><td>1,0,0,0,0</td><td>0,1,1,0,0,0,0,0,1,0,0,0,0,0.42661828,0.85806155,0.35716587</td><td>9.618376</td></tr><tr><td>78</td><td>VTS</td><td>1</td><td>0.42661828</td><td>0.35752565</td><td>0.20969094</td><td>CRD</td><td>5.5</td><td>0,1</td><td>1,0,0,0,0,0</td><td>1,0,0,0,0</td><td>0,1,1,0,0,0,0,0,1,0,0,0,0,0.42661828,0.35752565,0.20969094</td><td>6.0032406</td></tr><tr><td>79</td><td>VTS</td><td>1</td><td>0.42661828</td><td>0.5005359</td><td>0.43551195</td><td>CRD</td><td>8</td><td>0,1</td><td>1,0,0,0,0,0</td><td>1,0,0,0,0</td><td>0,1,1,0,0,0,0,0,1,0,0,0,0,0.42661828,0.5005359,0.43551195</td><td>8.333609</td></tr><tr><td>80</td><td>VTS</td><td>1</td><td>0.42661828</td><td>0.57204103</td><td>0.94015276</td><td>CRD</td><td>13</td><td>0,1</td><td>1,0,0,0,0,0</td><td>1,0,0,0,0</td><td>0,1,1,0,0,0,0,0,1,0,0,0,0,0.42661828,0.57204103,0.94015276</td><td>12.265802</td></tr><tr><td>81</td><td>VTS</td><td>1</td><td>0.42661828</td><td>0.21451539</td><td>0.27421123</td><td>CSH</td><td>5.5</td><td>0,1</td><td>1,0,0,0,0,0</td><td>0,1,0,0,0</td><td>0,1,1,0,0,0,0,0,0,1,0,0,0,0.42661828,0.21451539,0.27421123</td><td>5.5432825</td></tr><tr><td>82</td><td>VTS</td><td>1</td><td>0.42661828</td><td>0.42903078</td><td>0.30186278</td><td>CSH</td><td>7</td><td>0,1</td><td>1,0,0,0,0,0</td><td>0,1,0,0,0</td><td>0,1,1,0,0,0,0,0,0,1,0,0,0,0.42661828,0.42903078,0.30186278</td><td>6.841503</td></tr><tr><td>83</td><td>VTS</td><td>1</td><td>0.42661828</td><td>0.64354616</td><td>0.5253795</td><td>CSH</td><td>9.5</td><td>0,1</td><td>1,0,0,0,0,0</td><td>0,1,0,0,0</td><td>0,1,1,0,0,0,0,0,0,1,0,0,0,0.42661828,0.64354616,0.5253795</td><td>9.523228</td></tr><tr><td>84</td><td>VTS</td><td>1</td><td>0.42661828</td><td>0.21451539</td><td>0.19816947</td><td>CRD</td><td>4.5</td><td>0,1</td><td>1,0,0,0,0,0</td><td>1,0,0,0,0</td><td>0,1,1,0,0,0,0,0,1,0,0,0,0,0.42661828,0.21451539,0.19816947</td><td>5.18659</td></tr><tr><td>85</td><td>VTS</td><td>1</td><td>0.42661828</td><td>0.14301026</td><td>0.12212768</td><td>CRD</td><td>4</td><td>0,1</td><td>1,0,0,0,0,0</td><td>1,0,0,0,0</td><td>0,1,1,0,0,0,0,0,1,0,0,0,0,0.42661828,0.14301026,0.12212768</td><td>4.281831</td></tr><tr><td>86</td><td>VTS</td><td>1</td><td>0.42661828</td><td>0.42903078</td><td>0.20969094</td><td>CSH</td><td>6</td><td>0,1</td><td>1,0,0,0,0,0</td><td>0,1,0,0,0</td><td>0,1,1,0,0,0,0,0,0,1,0,0,0,0.42661828,0.42903078,0.20969094</td><td>6.190441</td></tr><tr><td>87</td><td>VTS</td><td>1</td><td>0.42661828</td><td>0.35752565</td><td>0.26038545</td><td>CRD</td><td>5.5</td><td>0,1</td><td>1,0,0,0,0,0</td><td>1,0,0,0,0</td><td>0,1,1,0,0,0,0,0,1,0,0,0,0,0.42661828,0.35752565,0.26038545</td><td>6.3613243</td></tr><tr><td>88</td><td>VTS</td><td>1</td><td>0.42661828</td><td>0.28602052</td><td>0.38481742</td><td>CRD</td><td>7</td><td>0,1</td><td>1,0,0,0,0,0</td><td>1,0,0,0,0</td><td>0,1,1,0,0,0,0,0,1,0,0,0,0,0.42661828,0.28602052,0.38481742</td><td>6.8726234</td></tr><tr><td>89</td><td>VTS</td><td>1</td><td>0.42661828</td><td>0.7865564</td><td>0.54611814</td><td>CSH</td><td>10.5</td><td>0,1</td><td>1,0,0,0,0,0</td><td>0,1,0,0,0</td><td>0,1,1,0,0,0,0,0,0,1,0,0,0,0.42661828,0.7865564,0.54611814</td><td>10.4049835</td></tr><tr><td>90</td><td>VTS</td><td>1</td><td>0.42661828</td><td>0.7150513</td><td>0.50694513</td><td>CRD</td><td>10</td><td>0,1</td><td>1,0,0,0,0,0</td><td>1,0,0,0,0</td><td>0,1,1,0,0,0,0,0,1,0,0,0,0,0.42661828,0.7150513,0.50694513</td><td>9.941082</td></tr><tr><td>91</td><td>VTS</td><td>1</td><td>0.42661828</td><td>0.7865564</td><td>0.39864323</td><td>CSH</td><td>9.5</td><td>0,1</td><td>1,0,0,0,0,0</td><td>0,1,0,0,0</td><td>0,1,1,0,0,0,0,0,0,1,0,0,0,0.42661828,0.7865564,0.39864323</td><td>9.363286</td></tr><tr><td>92</td><td>VTS</td><td>1</td><td>0.42661828</td><td>0.64354616</td><td>0.33642724</td><td>CSH</td><td>7.5</td><td>0,1</td><td>1,0,0,0,0,0</td><td>0,1,0,0,0</td><td>0,1,1,0,0,0,0,0,0,1,0,0,0,0.42661828,0.64354616,0.33642724</td><td>8.188552</td></tr><tr><td>93</td><td>VTS</td><td>1</td><td>0.42661828</td><td>0.7865564</td><td>0.42859906</td><td>CSH</td><td>9.5</td><td>0,1</td><td>1,0,0,0,0,0</td><td>0,1,0,0,0</td><td>0,1,1,0,0,0,0,0,0,1,0,0,0,0.42661828,0.7865564,0.42859906</td><td>9.574881</td></tr><tr><td>94</td><td>VTS</td><td>1</td><td>0.42661828</td><td>0.35752565</td><td>0.16821362</td><td>CSH</td><td>5.5</td><td>0,1</td><td>1,0,0,0,0,0</td><td>0,1,0,0,0</td><td>0,1,1,0,0,0,0,0,0,1,0,0,0,0.42661828,0.35752565,0.16821362</td><td>5.52983</td></tr><tr><td>95</td><td>VTS</td><td>3</td><td>0.42661828</td><td>1.7876282</td><td>3.2513616</td><td>CRD</td><td>57</td><td>0,1</td><td>0,0,1,0,0,0</td><td>1,0,0,0,0</td><td>0,1,0,0,1,0,0,0,1,0,0,0,0,0.42661828,1.7876282,3.2513616</td><td>58.378883</td></tr><tr><td>96</td><td>VTS</td><td>1</td><td>0.42661828</td><td>0.7150513</td><td>0.43320766</td><td>CRD</td><td>9.5</td><td>0,1</td><td>1,0,0,0,0,0</td><td>1,0,0,0,0</td><td>0,1,1,0,0,0,0,0,1,0,0,0,0,0.42661828,0.7150513,0.43320766</td><td>9.420234</td></tr><tr><td>97</td><td>VTS</td><td>1</td><td>0.42661828</td><td>0.85806155</td><td>0.76272196</td><td>CRD</td><td>12</td><td>0,1</td><td>1,0,0,0,0,0</td><td>1,0,0,0,0</td><td>0,1,1,0,0,0,0,0,1,0,0,0,0,0.42661828,0.85806155,0.76272196</td><td>12.483045</td></tr><tr><td>98</td><td>VTS</td><td>1</td><td>0.42661828</td><td>0.35752565</td><td>0.13595346</td><td>CSH</td><td>5</td><td>0,1</td><td>1,0,0,0,0,0</td><td>0,1,0,0,0</td><td>0,1,1,0,0,0,0,0,0,1,0,0,0,0.42661828,0.35752565,0.13595346</td><td>5.301958</td></tr><tr><td>99</td><td>VTS</td><td>1</td><td>0.42661828</td><td>0.9295667</td><td>0.26499403</td><td>CSH</td><td>9.5</td><td>0,1</td><td>1,0,0,0,0,0</td><td>0,1,0,0,0</td><td>0,1,1,0,0,0,0,0,0,1,0,0,0,0.42661828,0.9295667,0.26499403</td><td>9.154514</td></tr></tbody></table>"
      ]
     },
     "execution_count": 42,
     "metadata": {},
     "output_type": "execute_result"
    }
   ],
   "source": [
    "// Make predictions to plot agaist actual values\n",
    "display(h3(\"===== Making predictions in bulk for the whole Test Dataset =====\"));\n",
    "// Make predictions in bulk (Transformed IDataView will have the predictions plus the actual/true values)\n",
    "IDataView predictionsDataView = trainedModel.Transform(testDataView);\n",
    "predictionsDataView.Preview()"
   ]
  },
  {
   "cell_type": "markdown",
   "metadata": {},
   "source": [
    "## Display the metrics (Model quality evaluation)"
   ]
  },
  {
   "cell_type": "code",
   "execution_count": 31,
   "metadata": {},
   "outputs": [
    {
     "data": {
      "text/html": [
       "<h3>===== Evaluating Model&#39;s accuracy with Test dataset =====</h3>"
      ]
     },
     "metadata": {},
     "output_type": "display_data"
    },
    {
     "data": {
      "text/html": [
       "<table><thead><tr><th>MeanAbsoluteError</th><th>MeanSquaredError</th><th>RootMeanSquaredError</th><th>LossFunction</th><th>RSquared</th></tr></thead><tbody><tr><td>0.7499811852455139</td><td>35.36469950920185</td><td>5.946822639796974</td><td>35.36470081938095</td><td>0.698016117105618</td></tr></tbody></table>"
      ]
     },
     "metadata": {},
     "output_type": "display_data"
    }
   ],
   "source": [
    "display(h3(\"===== Evaluating Model's accuracy with Test dataset =====\"));\n",
    "\n",
    "var metrics = mlContext.Regression.Evaluate(predictionsDataView, labelColumnName: \"FareAmount\", scoreColumnName: \"Score\");\n",
    "display(metrics);"
   ]
  },
  {
   "cell_type": "markdown",
   "metadata": {},
   "source": [
    "## Bar chart showing 'Actual fares vs. Predicted fares Comparison' "
   ]
  },
  {
   "cell_type": "code",
   "execution_count": 44,
   "metadata": {},
   "outputs": [
    {
     "data": {
      "text/html": [
       "<div id=\"43d6bde9-3422-4014-a314-4c45383801b1\" style=\"width: 700px; height: 400px;\"></div><script type=\"text/javascript\">\r\n",
       "\r\n",
       "var renderPlotly = function() {\r\n",
       "    var xplotRequire = requirejs.config({context:'xplot-2.0.0',paths:{plotly:'https://cdn.plot.ly/plotly-1.49.2.min'}});\r\n",
       "    xplotRequire(['plotly'], function(Plotly) {\r\n",
       "\n",
       "            var data = [{\"type\":\"bar\",\"x\":[0,1,2,3,4,5,6,7,8,9,10,11,12,13,14,15,16,17,18,19],\"y\":[15.5,10.0,26.5,14.5,9.5,29.5,9.0,7.5,10.5,6.0,10.0,9.0,10.5,10.0,19.0,8.5,12.5,5.0,8.5,13.0],\"name\":\"Actual\"},{\"type\":\"bar\",\"x\":[0,1,2,3,4,5,6,7,8,9,10,11,12,13,14,15,16,17,18,19],\"y\":[15.772648,10.052195,25.492914,13.878612,9.908529,27.037437,9.451395,8.066458,10.600302,6.728958,10.278987,8.446153,10.864942,10.324993,19.13126,8.866831,12.957888,5.3981857,8.866831,12.753372],\"name\":\"Predicted\"}];\n",
       "            var layout = {\"title\":\"Actual fares vs. Predicted fares Comparison\",\"showlegend\":true,\"xaxis\":{\"title\":\"Cases\",\"_isSubplotObj\":true},\"yaxis\":{\"title\":\"Fare\",\"_isSubplotObj\":true},\"barmode\":\"group\"};\n",
       "            Plotly.newPlot('43d6bde9-3422-4014-a314-4c45383801b1', data, layout);\n",
       "        });\r\n",
       "};\r\n",
       "if ((typeof(requirejs) !==  typeof(Function)) || (typeof(requirejs.config) !== typeof(Function))) { \r\n",
       "    var script = document.createElement(\"script\"); \r\n",
       "    script.setAttribute(\"src\", \"https://cdnjs.cloudflare.com/ajax/libs/require.js/2.3.6/require.min.js\"); \r\n",
       "    script.onload = function(){\r\n",
       "        renderPlotly();\r\n",
       "    };\r\n",
       "    document.getElementsByTagName(\"head\")[0].appendChild(script); \r\n",
       "}\r\n",
       "else {\r\n",
       "    renderPlotly();\r\n",
       "}\r\n",
       "</script>"
      ]
     },
     "metadata": {},
     "output_type": "display_data"
    }
   ],
   "source": [
    "// Number of rows to use for Bar chart\n",
    "int totalNumberForBarChart  = 20;\n",
    "\n",
    "float[] actualFares = predictionsDataView.GetColumn<float>(\"FareAmount\").Take(totalNumberForBarChart).ToArray();\n",
    "float[] predictionFares = predictionsDataView.GetColumn<float>(\"Score\").Take(totalNumberForBarChart).ToArray();\n",
    "int[] elements = Enumerable.Range(0, totalNumberForBarChart).ToArray();\n",
    "\n",
    "// Define group for Actual values \n",
    "var ActualValuesGroupBarGraph = new Graph.Bar()\n",
    "{\n",
    "    x = elements,\n",
    "    y = actualFares,\n",
    "    name = \"Actual\"\n",
    "};\n",
    "\n",
    "// Define group for Prediction values \n",
    "var PredictionValuesGroupBarGraph = new Graph.Bar()\n",
    "{\n",
    "    x = elements,\n",
    "    y = predictionFares,\n",
    "    name = \"Predicted\"\n",
    "};\n",
    "\n",
    "var chart = Chart.Plot(new[] {ActualValuesGroupBarGraph, PredictionValuesGroupBarGraph});\n",
    "\n",
    "var layout = new Layout.Layout(){barmode = \"group\", title=\"Actual fares vs. Predicted fares Comparison\"};\n",
    "chart.WithLayout(layout);\n",
    "chart.WithXTitle(\"Cases\");\n",
    "chart.WithYTitle(\"Fare\");\n",
    "chart.WithLegend(true);\n",
    "chart.Width = 700;\n",
    "chart.Height = 400;\n",
    "\n",
    "display(chart);"
   ]
  },
  {
   "cell_type": "markdown",
   "metadata": {},
   "source": [
    "# Save the ML model as a file"
   ]
  },
  {
   "cell_type": "code",
   "execution_count": 35,
   "metadata": {},
   "outputs": [
    {
     "data": {
      "text/html": [
       "<h1>Saving the ML.NET Model as a file...</h1>"
      ]
     },
     "metadata": {},
     "output_type": "display_data"
    },
    {
     "data": {
      "text/html": [
       "<h3>The model was saved to: ./MLRegressionModel.zip</h3>"
      ]
     },
     "metadata": {},
     "output_type": "display_data"
    }
   ],
   "source": [
    "display(h1(\"Saving the ML.NET Model as a file...\"));\n",
    "\n",
    "string modelFilePath = \"./MLRegressionModel.zip\";\n",
    "\n",
    "// GetAbsolutePath(modelRelativePath)\n",
    "mlContext.Model.Save(trainedModel, trainDataView.Schema, modelFilePath);\n",
    "\n",
    "display(h3($\"The model was saved to: {modelFilePath}\"));\n"
   ]
  },
  {
   "cell_type": "code",
   "execution_count": null,
   "metadata": {},
   "outputs": [],
   "source": [
    "\n"
   ]
  }
 ],
 "metadata": {
  "kernelspec": {
   "display_name": ".NET (C#)",
   "language": "C#",
   "name": ".net-csharp"
  },
  "language_info": {
   "file_extension": ".cs",
   "mimetype": "text/x-csharp",
   "name": "C#",
   "pygments_lexer": "csharp",
   "version": "8.0"
  }
 },
 "nbformat": 4,
 "nbformat_minor": 2
}
